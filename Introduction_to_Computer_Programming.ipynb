{
  "cells": [
    {
      "cell_type": "markdown",
      "metadata": {
        "id": "view-in-github",
        "colab_type": "text"
      },
      "source": [
        "<a href=\"https://colab.research.google.com/github/virguleria/Capstone-Project---Introduction-to-Computer-Programming/blob/main/Introduction_to_Computer_Programming.ipynb\" target=\"_parent\"><img src=\"https://colab.research.google.com/assets/colab-badge.svg\" alt=\"Open In Colab\"/></a>"
      ]
    },
    {
      "cell_type": "markdown",
      "source": [
        "Project Name : Introduction to Computer Programming.\n",
        "\n",
        "Creator: Virender Singh"
      ],
      "metadata": {
        "id": "g_XAitCnU1xw"
      }
    },
    {
      "cell_type": "markdown",
      "metadata": {
        "id": "HlOAX_1v1ko1"
      },
      "source": [
        "# **Guidelines**\n"
      ]
    },
    {
      "cell_type": "markdown",
      "metadata": {
        "id": "rATVcbDa2pY_"
      },
      "source": [
        "\n",
        "**1. About the Project:**\n",
        "\n",
        "The Introduction to Computer Programming project is designed to evaluate your understanding and practical application of fundamental programming concepts using Python. This assessment encompasses various topics, including data types, indexing, slicing, operators, in-built functions, statements, conditionals, loops, object-oriented programming, and exception handling. In addition, you will showcase your ability to create custom functions and tackle advanced looping concepts.\n",
        "\n",
        "**2. Skills Required:**\n",
        "\n",
        "  To successfully complete this project assessment, you should possess the following skills and knowledge:\n",
        "- Proficiency in Python programming language\n",
        "- Understanding of data types, indexing, and slicing in Python\n",
        "- Familiarity with operators, in-built functions, and methods\n",
        "- Ability to work with statements, indentation, and conditionals\n",
        "- Competence in implementing loops and iterations, including conditional and infinite looping\n",
        "- Mastery of creating and utilizing custom functions in Python\n",
        "- Knowledge of advanced looping concepts\n",
        "- Understanding of object-oriented programming (OOPs) principles in Python\n",
        "- Ability to handle exceptions in your code\n",
        "\n",
        "**3. Deliverables:**\n",
        "\n",
        "You are required to submit the following items for evaluation:\n",
        "- Completed Python coding solutions for the given questions (coding assessment)\n",
        "- Collab link containing your Python code for each question\n",
        "- Video explanation for any five coding questions (demonstrating your understanding and approach)\n",
        "\n",
        "**4. Rubrics:**\n",
        "\n",
        "Your project assessment will be evaluated based on the following rubrics:\n",
        "\n",
        "**a. Coding Assessment:**\n",
        "\n",
        "- Correctness of the code solution\n",
        "- Efficient use of coding constructs\n",
        "- Clear and well-structured code organization\n",
        "\n",
        "**b. Collab Link:**\n",
        "\n",
        "- Submission of Python code through the provided Collab link\n",
        "- Proper organization of code files and resources\n",
        "\n",
        "**c. Video Explanation:**\n",
        "\n",
        "- Clear articulation of solution approach\n",
        "- Coverage of important concepts and logic\n",
        "- Coherent and well-structured explanation\n",
        "\n",
        "Please use these pointers as the basis for evaluating each section of the project assessment."
      ]
    },
    {
      "cell_type": "markdown",
      "metadata": {
        "id": "KLPQdGNGvXFL"
      },
      "source": [
        "# **CodeStorm Challenge: Solving and Explaining Complex Coding Problems**\n",
        "\n"
      ]
    },
    {
      "cell_type": "markdown",
      "metadata": {
        "id": "OBDIMXqy26TD"
      },
      "source": [
        "**Problem Statement:**\n",
        "\n",
        "The CodeStorm Challenge is an intense coding competition designed to test participants' programming skills, problem-solving abilities, and communication prowess. In this challenge, participants will be required to solve a total of 30 intricate coding questions that cover a wide range of algorithms, data structures, and programming paradigms. Additionally, participants are tasked with creating an explanatory video that delves into the solutions of any five chosen questions.\n",
        "\n",
        "The challenge aims to evaluate participants on their coding efficiency, algorithmic thinking, and presentation skills. Participants will need to not only implement correct and optimized solutions to the coding problems but also effectively communicate their thought processes and strategies in the form of a video presentation.\n",
        "\n",
        "**Key Objectives:**\n",
        "\n",
        "* Coding Proficiency: Participants must demonstrate their ability to write clean, efficient, and bug-free code to solve complex programming challenges within a time-constrained environment.\n",
        "\n",
        "* Problem Solving: The challenge will encompass a variety of problem domains, including dynamic programming, graph algorithms, string manipulation, and more. Participants should showcase their prowess in breaking down problems, designing algorithms, and translating solutions into code.\n",
        "\n",
        "* Communication Skills: In addition to coding skills, participants need to exhibit strong communication skills by creating a comprehensive video explaining the thought process, approach, and solution to five selected problems. Clarity, conciseness, and coherence in the video are essential.\n",
        "\n",
        "* Time Management: Participants will need to efficiently manage their time throughout the challenge, allocating sufficient time to solve each question and ensuring they have ample time to create high-quality explanatory videos.\n",
        "\n",
        "* Adaptability: As the challenge encompasses a diverse set of coding problems, participants must be adaptable in applying different algorithms and techniques to solve problems that may vary in difficulty and complexity.\n",
        "\n",
        "**Note:**\n",
        "\n",
        "1. Solve 30 coding problems out of the different problem statements given here.\n",
        "2. Create a video explaining any 5 questions and include the video link before submitting."
      ]
    },
    {
      "cell_type": "markdown",
      "metadata": {
        "id": "XIj_QdatBQTt"
      },
      "source": [
        "# **Introduction to Python Programming**"
      ]
    },
    {
      "cell_type": "markdown",
      "metadata": {
        "id": "dCSH8MhBRTW7"
      },
      "source": [
        "## Score Board Operator\n",
        "An operator working behind the scoreboard of a inter cohort AlmaBetter cricket tournament, is responsible for updating the scores and points of each team. However, the operator is currently facing a challenge. He has been tasked with updating the total number of points gained by Team London, but he does not possess the necessary programming skills to complete this task.\n",
        "According to the tournament's rules, teams are awarded the following points based on the outcome of a match:\n",
        "\n",
        "* wins: 3 points\n",
        "* draws: 1 point\n",
        "* losses: 0 points\n",
        "\n",
        "\n",
        "\n",
        "\n",
        "Team London has played **8 matches** in this tournament. They won **4 matches**, lost **3 matches** and **drew 1**.\n",
        "The operator is in need of assistance to calculate the total number of points earned by Team London. As a python expert adept with knowledge of integer, floats and boolean, you can help the operator by writing a solution for the following problem.\n",
        "\n",
        "What would your approach be?"
      ]
    },
    {
      "cell_type": "code",
      "execution_count": null,
      "metadata": {
        "id": "v8z41_rUgsJE"
      },
      "outputs": [],
      "source": [
        "#1. Define your fixed values:\n",
        "wins = 3\n",
        "draws = 1\n",
        "losses = 0\n"
      ]
    },
    {
      "cell_type": "code",
      "execution_count": null,
      "metadata": {
        "id": "-kG6LhhJgsJl"
      },
      "outputs": [],
      "source": [
        "#2. Calculate the total points gained by Team London\n",
        "london_points = (wins * 4 + losses * 0 + draws * 1)"
      ]
    },
    {
      "cell_type": "code",
      "execution_count": null,
      "metadata": {
        "colab": {
          "base_uri": "https://localhost:8080/"
        },
        "id": "J8i6jnwngsJm",
        "outputId": "96108c96-ec2c-4668-b01d-50b020633731"
      },
      "outputs": [
        {
          "name": "stdout",
          "output_type": "stream",
          "text": [
            "13\n"
          ]
        }
      ],
      "source": [
        "# 3. Print the variable london_points\n",
        "print(london_points)"
      ]
    },
    {
      "cell_type": "markdown",
      "metadata": {
        "id": "qEICqapxUkVB"
      },
      "source": [
        "## Nutrition bar ingredient chart\n",
        "\n",
        "Imagine you are a data analyst at a nutrition bar manufacturing company. Your department head approaches you with a question. The company produces a nutrition bar that contains **45g of raisins, 65g of almonds, and 30g of apricots**. The head of the manufacturing department wants you to create an ingredient percentage list for the nutrition bar using python.\n",
        "\n",
        "Equipped with the knowledge of int, float and booleans in python, how would you approach this situation?"
      ]
    },
    {
      "cell_type": "code",
      "execution_count": null,
      "metadata": {
        "colab": {
          "base_uri": "https://localhost:8080/"
        },
        "id": "XJ9Rq4P3Del7",
        "outputId": "d1f9f8ca-a7f5-41b7-c541-aa6d9bfa2fd8"
      },
      "outputs": [
        {
          "name": "stdout",
          "output_type": "stream",
          "text": [
            "32.142857142857146\n"
          ]
        }
      ],
      "source": [
        "# Calculate the percentage of raisins and print the variable\n",
        "raisins= 45\n",
        "almonds= 65\n",
        "apricots=30\n",
        "total = raisins + almonds + apricots\n",
        "\n",
        "raisins_perc = (raisins/total)*100\n",
        "print(raisins_perc)"
      ]
    },
    {
      "cell_type": "code",
      "execution_count": null,
      "metadata": {
        "colab": {
          "base_uri": "https://localhost:8080/"
        },
        "id": "S6lJZtaXDel9",
        "outputId": "dd8a7b67-156a-4b0e-d0c6-b595f07e21cf"
      },
      "outputs": [
        {
          "name": "stdout",
          "output_type": "stream",
          "text": [
            "46.42857142857143\n"
          ]
        }
      ],
      "source": [
        "# Calculate the percentage of almonds and print the variable\n",
        "almonds_perc = (almonds/total)*100\n",
        "print(almonds_perc)"
      ]
    },
    {
      "cell_type": "code",
      "execution_count": null,
      "metadata": {
        "colab": {
          "base_uri": "https://localhost:8080/"
        },
        "id": "mHzMnSZrDemB",
        "outputId": "c21a35fa-82f3-43fc-cf5e-9ffea56a09c7"
      },
      "outputs": [
        {
          "name": "stdout",
          "output_type": "stream",
          "text": [
            "21.428571428571427\n"
          ]
        }
      ],
      "source": [
        "# Calculate the percentage of apricots and print the variable\n",
        "apricots_perc = (apricots/total)*100\n",
        "print(apricots_perc)"
      ]
    },
    {
      "cell_type": "markdown",
      "metadata": {
        "id": "9Y3kSoUHVOGj"
      },
      "source": [
        "## Measuring the Accuracy of a Disease Detection Model- Optional\n",
        "\n",
        "If you're not impressed with these usecases yet, understand that you're just getting started with python. Going forward as a data scientist, you'll be using what you've learned to design machine learning models that just might even save lives!!\n",
        "\n",
        "Let's say you have created a machine learning model to detect diseases in patients based on their symptoms and medical history. The model has been tested on a dataset of **100 patients**, including **30 with diabetes**, **45 with heart disease**, and **25 with cancer**.\n",
        "The model's performance was evaluated in three rounds.\n",
        "In the first round, the model correctly **detected diabetes in 25 out of the 30 patients** with the disease.\n",
        "In the second round, the model correctly detected **heart disease in 35 out of the 45 patients** with the disease.\n",
        "In the final round, the model correctly **detected cancer in 20 out of the 25 patients** with the disease.\n",
        "\n",
        "The model's accuracy is defined as the percentage of correctly detected cases out of the total number of patient\n",
        "\n",
        "Assess how accurate your model is across these 3 diseases.\n"
      ]
    },
    {
      "cell_type": "code",
      "execution_count": null,
      "metadata": {
        "id": "OfXY9LcVDemF"
      },
      "outputs": [],
      "source": [
        "# Store the number of heart disease patients\n",
        "heart_patients = 45\n",
        "\n",
        "# Store the number of diabetes patients\n",
        "diabetes_patients = 30\n",
        "\n",
        "# Store the number of cancer patients\n",
        "cancer_patients = 25\n",
        "\n",
        "# Store the number of your correct guesses of heart disease patients\n",
        "correct_heart_patients = 35\n",
        "\n",
        "# Store the number of your correct guesses of diabetes patients\n",
        "correct_diabetes_patients = 25\n",
        "\n",
        "# Store the number of your correct guesses of cancer patients\n",
        "correct_cancer_patients = 20"
      ]
    },
    {
      "cell_type": "markdown",
      "metadata": {
        "id": "Eg_Or6GmDemI"
      },
      "source": [
        "#### Calculate your accuracy in each of the three cases"
      ]
    },
    {
      "cell_type": "code",
      "execution_count": null,
      "metadata": {
        "colab": {
          "base_uri": "https://localhost:8080/"
        },
        "id": "QUbDKOR3DemJ",
        "outputId": "3810631e-9279-49e4-ed9a-827d72e3c32b"
      },
      "outputs": [
        {
          "name": "stdout",
          "output_type": "stream",
          "text": [
            "77.77777777777779\n"
          ]
        }
      ],
      "source": [
        "# Print the heart disease detection accuracy\n",
        "\n",
        "heart_accuracy = (correct_heart_patients/heart_patients)*100\n",
        "print(heart_accuracy)"
      ]
    },
    {
      "cell_type": "code",
      "execution_count": null,
      "metadata": {
        "colab": {
          "base_uri": "https://localhost:8080/"
        },
        "id": "PfX4DowhDemM",
        "outputId": "b965088b-0865-4d4c-b965-84f1200fa71a"
      },
      "outputs": [
        {
          "name": "stdout",
          "output_type": "stream",
          "text": [
            "83.33333333333334\n"
          ]
        }
      ],
      "source": [
        "# Print the diabetes detection accuracy\n",
        "diabetes_accuracy = (correct_diabetes_patients/diabetes_patients)*100\n",
        "print(diabetes_accuracy)\n"
      ]
    },
    {
      "cell_type": "code",
      "execution_count": null,
      "metadata": {
        "colab": {
          "base_uri": "https://localhost:8080/"
        },
        "id": "ZV-hzGKCDemP",
        "outputId": "6eefa48f-1954-4c09-ae87-7b0185921a94"
      },
      "outputs": [
        {
          "name": "stdout",
          "output_type": "stream",
          "text": [
            "80.0\n"
          ]
        }
      ],
      "source": [
        "# Print the cancer detection accuracy\n",
        "cancer_accuracy = (correct_cancer_patients/cancer_patients)*100\n",
        "print(cancer_accuracy)\n"
      ]
    },
    {
      "cell_type": "code",
      "execution_count": null,
      "metadata": {
        "colab": {
          "base_uri": "https://localhost:8080/"
        },
        "id": "eP3JkusLDemT",
        "outputId": "79734fae-e825-457d-ef4b-bdff3090ab61"
      },
      "outputs": [
        {
          "name": "stdout",
          "output_type": "stream",
          "text": [
            "80.0\n"
          ]
        }
      ],
      "source": [
        "# Print the overall accuracy of your model\n",
        "total_patients = heart_patients + diabetes_patients + cancer_patients\n",
        "total_correct_patients = correct_heart_patients + correct_diabetes_patients + correct_cancer_patients\n",
        "\n",
        "overall_accuracy = (total_correct_patients/total_patients)*100\n",
        "print(overall_accuracy)"
      ]
    },
    {
      "cell_type": "markdown",
      "metadata": {
        "id": "AzbS5w7QB28m"
      },
      "source": [
        "# **Data Types in Python**"
      ]
    },
    {
      "cell_type": "markdown",
      "metadata": {
        "id": "yKTqVryFxgP1"
      },
      "source": [
        "## Solving Algebra the Cool Way 😎"
      ]
    },
    {
      "cell_type": "markdown",
      "metadata": {
        "id": "_qhDAZQsSvPv"
      },
      "source": [
        "You must remember the algebraic equations and functions you came across during your school days. If you do, you also must remember how tedious it was to do solve them manually. 😫\n",
        "Consider a quadratic function:\n",
        "\n",
        "***f(x)=x^2+3x-4***\n",
        "\n",
        "Find the value of f(x) at x =3 , x=-2, and x=4\n",
        "\n",
        "Doing this manually like the old days would be a tedious job 😞. But now you have python at your disposal 🙂 !\n",
        "How would you approach this problem using what you have learned?\n"
      ]
    },
    {
      "cell_type": "code",
      "execution_count": null,
      "metadata": {
        "colab": {
          "base_uri": "https://localhost:8080/"
        },
        "id": "4_HZwes5Delh",
        "outputId": "c6ed437f-cabb-467e-e7ad-6d18629d1b0a"
      },
      "outputs": [
        {
          "output_type": "stream",
          "name": "stdout",
          "text": [
            "14\n"
          ]
        }
      ],
      "source": [
        "# Calculate the value of the function f(x) at x = 3\n",
        "x = 3\n",
        "func_evaluated_at_3 = x**2 + 3*x -4\n",
        "print(func_evaluated_at_3)"
      ]
    },
    {
      "cell_type": "code",
      "execution_count": null,
      "metadata": {
        "colab": {
          "base_uri": "https://localhost:8080/"
        },
        "id": "uD4MAyKIDelo",
        "outputId": "65b1f1c4-51c1-45af-d272-85016e58c1bd"
      },
      "outputs": [
        {
          "output_type": "stream",
          "name": "stdout",
          "text": [
            "-6\n"
          ]
        }
      ],
      "source": [
        "# Calculate the value of the function f(x) at x = -2\n",
        "x = -2\n",
        "func_evaluated_at_minus2 =  x**2 + 3*x -4\n",
        "print(func_evaluated_at_minus2)"
      ]
    },
    {
      "cell_type": "code",
      "execution_count": null,
      "metadata": {
        "colab": {
          "base_uri": "https://localhost:8080/"
        },
        "id": "h8PgF85VDelu",
        "outputId": "43e95495-1a10-465a-c0fb-aa1ba07f344a"
      },
      "outputs": [
        {
          "output_type": "stream",
          "name": "stdout",
          "text": [
            "24\n"
          ]
        }
      ],
      "source": [
        "# Calculate the value of the function f(x) at x = 4\n",
        "x= 4\n",
        "func_evaluated_at_4 = x**2 + 3*x -4\n",
        "print(func_evaluated_at_4)"
      ]
    },
    {
      "cell_type": "code",
      "execution_count": null,
      "metadata": {
        "colab": {
          "base_uri": "https://localhost:8080/"
        },
        "id": "ESCji5FY9x61",
        "outputId": "73726ae5-957d-4f19-82ad-a2f9cc6777cb"
      },
      "outputs": [
        {
          "output_type": "execute_result",
          "data": {
            "text/plain": [
              "True"
            ]
          },
          "metadata": {},
          "execution_count": 41
        }
      ],
      "source": [
        "#Check if func_evaluated_at_3 >= func_evaluated_at_minus2\n",
        "func_evaluated_at_3 >= func_evaluated_at_minus2"
      ]
    },
    {
      "cell_type": "code",
      "execution_count": null,
      "metadata": {
        "colab": {
          "base_uri": "https://localhost:8080/"
        },
        "id": "bZuIzWse94rT",
        "outputId": "a41f4e86-dbc1-463d-8fa2-acb21a99307b"
      },
      "outputs": [
        {
          "output_type": "execute_result",
          "data": {
            "text/plain": [
              "False"
            ]
          },
          "metadata": {},
          "execution_count": 42
        }
      ],
      "source": [
        "#Check if value of f(x) at 3,-2 or 4 is equal to 0 or not\n",
        "func_evaluated_at_3 == 0\n",
        "func_evaluated_at_minus2 == 0\n",
        "func_evaluated_at_4 == 0"
      ]
    },
    {
      "cell_type": "markdown",
      "metadata": {
        "id": "kyKx-MLZHsoh"
      },
      "source": [
        "## Finding total A's in the Bookshelves\n",
        "\n",
        "In your pursuit of expanding your knowledge of Python, you come across a bookstore in search of books on the subject.\n",
        "\n",
        "There, you meet a salesperson who is also a Python enthusiast!!\n",
        "\n",
        "The salesperson presents you with a challenge - they have a list of five books related to Python and if you can write a program that finds the count of letter 'e', the store will give you a free book of your choice. 😀\n",
        "\n",
        "Are you ready to accept the challenge? 💪"
      ]
    },
    {
      "cell_type": "code",
      "execution_count": null,
      "metadata": {
        "id": "iImDmkOZXRRP"
      },
      "outputs": [],
      "source": [
        "# Here's the list of books\n",
        "books = \"Python for Everyone, Learn Python the Hard Way, Python Crash Course , Starting Out with Python, Automate the Boring Stuff with Python\"\n"
      ]
    },
    {
      "cell_type": "code",
      "execution_count": null,
      "metadata": {
        "id": "-3HeaI3YXWQ1"
      },
      "outputs": [],
      "source": [
        "# Store the count of books containing A/a in the title. Note this will be a case insensitive search\n",
        "a_counts = books.count('a')\n",
        "\n",
        "A_counts= books.count('A')\n",
        "\n",
        "total_a_counts= a_counts + a_counts"
      ]
    },
    {
      "cell_type": "code",
      "execution_count": null,
      "metadata": {
        "colab": {
          "base_uri": "https://localhost:8080/"
        },
        "id": "KXUYgyjBXaCH",
        "outputId": "86c23003-f63e-4a7d-db1b-3b28cc7b817a"
      },
      "outputs": [
        {
          "output_type": "stream",
          "name": "stdout",
          "text": [
            "The total number of 'a's in the list of books is 12\n"
          ]
        }
      ],
      "source": [
        "# Print the value\n",
        "print(f\"The total number of 'a's in the list of books is {total_a_counts}\")"
      ]
    },
    {
      "cell_type": "markdown",
      "metadata": {
        "id": "BUzHV9sfvemq"
      },
      "source": [
        "## Unleashing the Power of Mean in Exam Analysis"
      ]
    },
    {
      "cell_type": "markdown",
      "metadata": {
        "id": "JQOrvXKEwJgy"
      },
      "source": [
        "When analyzing exam scores, teachers have the power to unlock valuable insights into their students' performance. By using the mean and median, they can get a clear picture of how the class is doing as a whole and identify areas where improvement is needed.\n",
        "\n",
        "The mean score is like a report card for the entire class, showing the average of all exam scores. It gives a good general idea of how the class is doing but can be influenced by a few students with extremely high or low scores.\n",
        "\n",
        "By analysing the mean, teachers can get a complete picture of the class performance and make informed decisions to improve the learning experience for their students. So go ahead and use these powerful tools to take your students' exam scores to the next level! 💪"
      ]
    },
    {
      "cell_type": "code",
      "execution_count": null,
      "metadata": {
        "id": "qTEXZHBxwVP1"
      },
      "outputs": [],
      "source": [
        "# List of student marks\n",
        "\n",
        "marks = [67,87,75,46,89,97,68,98,87,88]"
      ]
    },
    {
      "cell_type": "code",
      "execution_count": null,
      "metadata": {
        "id": "9BpBKVXFw4Mg"
      },
      "outputs": [],
      "source": [
        "# Calculate the mean of the marks. Use sum() and len() functions\n",
        "mean_marks = sum(marks)/len(marks)"
      ]
    },
    {
      "cell_type": "code",
      "execution_count": null,
      "metadata": {
        "colab": {
          "base_uri": "https://localhost:8080/"
        },
        "id": "XQ1cL8mCpfeS",
        "outputId": "c5b5c073-a9e8-407e-caa9-ddc701b48bb2"
      },
      "outputs": [
        {
          "output_type": "stream",
          "name": "stdout",
          "text": [
            "80.2\n"
          ]
        }
      ],
      "source": [
        "print(mean_marks)"
      ]
    },
    {
      "cell_type": "markdown",
      "metadata": {
        "id": "iOZMEc3KtdsM"
      },
      "source": [
        "\n",
        "## John's Fruit Stand Sales Mix-up\n",
        "\n",
        "You must remember from the previous lessons that dictionaries can be used to store values corresponding to a particular key. But how is this helpful to us?\n",
        "\n",
        "Let's look at this scenario:\n",
        "\n",
        "Jim owns a quaint little fruit stand that sells mangoes, bananas, apples, and pineapples. One day, with Jim being tied up, he tasked his son John to manage the shop for a day. Being new to the game, John recorded the sales data in an unconventional way. He wrote down the name of each fruit as many times as it was sold, creating a list like this:\n",
        "\n",
        "**['Mango','Mango','Mango','Pineapple','Pineapple','Pineapple','Apple','Mango','Banana','Apple','Banana','Apple','Pineapple','Apple','Apple','Pineapple','Pineapple']**\n",
        "🤦\n",
        "\n",
        "But, this method is not very efficient or easy to read.\n",
        "\n",
        "Forunately you were there at the shop to grab some apples yourselves, and you saw what John was doing.\n",
        "\n",
        "You can help him out to structure the data by using dictionaries. How?\n",
        "\n"
      ]
    },
    {
      "cell_type": "code",
      "execution_count": null,
      "metadata": {
        "id": "lqRlffflqcUg"
      },
      "outputs": [],
      "source": [
        "#Here's John's list:\n",
        "fruit_list=['Mango','Mango','Mango','Pineapple','Pineapple','Pineapple','Apple','Mango','Banana','Apple','Banana','Apple','Pineapple','Apple','Apple','Pineapple','Pineapple']"
      ]
    },
    {
      "cell_type": "code",
      "execution_count": null,
      "metadata": {
        "id": "zP1dXujAD_GA"
      },
      "outputs": [],
      "source": [
        "# Step 2: Create an empty dictionary which will contain the unique fruit names\n",
        "fruit_dict={}\n",
        "\n",
        "# Set the values for each key separately\n",
        "\n",
        "# First Key\n",
        "fruit_dict['Mango']= fruit_list.count('Mango')\n",
        "\n",
        "# Second Key\n",
        "fruit_dict['Pineapple']= fruit_list.count('Pineapple')\n",
        "\n",
        "# Third Key\n",
        "fruit_dict['Apple']= fruit_list.count('Apple')\n",
        "\n",
        "# Fourth Key\n",
        "fruit_dict['Banana']= fruit_list.count('Banana')"
      ]
    },
    {
      "cell_type": "code",
      "execution_count": null,
      "metadata": {
        "colab": {
          "base_uri": "https://localhost:8080/"
        },
        "id": "oy02z7prygYo",
        "outputId": "5808b194-4ab1-419f-99fd-cbf3d84b5dab"
      },
      "outputs": [
        {
          "output_type": "stream",
          "name": "stdout",
          "text": [
            "{'Mango': 4, 'Pineapple': 6, 'Apple': 5, 'Banana': 2}\n"
          ]
        }
      ],
      "source": [
        "print(fruit_dict)"
      ]
    },
    {
      "cell_type": "markdown",
      "metadata": {
        "id": "hw_eQmfUo8Ma"
      },
      "source": [
        "# **Indexing & Slicing**"
      ]
    },
    {
      "cell_type": "markdown",
      "metadata": {
        "id": "4xWhhMD7lFiO"
      },
      "source": [
        "## Imagine that you are a superhero movie buff and you're trying to create a list of the most iconic Marvel characters. You have compiled a list of some of the most popular characters, but you want to narrow it down to the top 6.\n",
        "\n",
        "Here's your list of characters:\n",
        "\n",
        "marvel_words = ['Avengers', 'X-Men', 'Spider-Man', 'Iron Man', 'Hulk', 'Thor', 'Black Widow', 'Captain America', 'Wolverine', 'Doctor Strange', 'Namor']\n"
      ]
    },
    {
      "cell_type": "code",
      "execution_count": null,
      "metadata": {
        "id": "wecbawDhmHhv"
      },
      "outputs": [],
      "source": [
        "# Here's your list of characters:\n",
        "\n",
        "marvel_words = ['Avengers', 'X-Men', 'Spider-Man', 'Iron Man', 'Hulk', 'Thor', 'Black Widow', 'Captain America', 'Wolverine', 'Doctor Strange', 'Namor']"
      ]
    },
    {
      "cell_type": "markdown",
      "metadata": {
        "id": "LCQe44-gwnxB"
      },
      "source": [
        "You want to narrow down the list to the last 6 characters in the list. These characters are:\n",
        "\n",
        "* Namor\n",
        "* Doctor Strange\n",
        "* Wolverine\n",
        "* Captain America\n",
        "* Black Widow\n",
        "* Thor\n",
        "\n",
        "\n",
        "\n"
      ]
    },
    {
      "cell_type": "markdown",
      "metadata": {
        "id": "ixSrQmeVwwYD"
      },
      "source": [
        "Write a code to slice these characters from the list"
      ]
    },
    {
      "cell_type": "code",
      "execution_count": null,
      "metadata": {
        "colab": {
          "base_uri": "https://localhost:8080/"
        },
        "id": "GF31Mwo2wmM7",
        "outputId": "86138b4a-6ed6-4768-d98e-df37e9b97090"
      },
      "outputs": [
        {
          "output_type": "stream",
          "name": "stdout",
          "text": [
            "['Namor', 'Doctor Strange', 'Wolverine', 'Captain America', 'Black Widow', 'Thor']\n"
          ]
        }
      ],
      "source": [
        "# Replace x with appropriate values\n",
        "new_marvel=marvel_words[-1:-7:-1]\n",
        "print(new_marvel)"
      ]
    },
    {
      "cell_type": "markdown",
      "metadata": {
        "id": "ExOuQaMiYSs7"
      },
      "source": [
        "## Create two teams of superheroes based on their index position: one team should consist of all the characters located at even index positions, while the other team should consist of all the characters located at odd index positions."
      ]
    },
    {
      "cell_type": "code",
      "execution_count": null,
      "metadata": {
        "colab": {
          "base_uri": "https://localhost:8080/"
        },
        "id": "FfV-JzekZBKd",
        "outputId": "93c9be49-0667-4c0d-b1d6-89ba364dedb4"
      },
      "outputs": [
        {
          "name": "stdout",
          "output_type": "stream",
          "text": [
            "['X-Men', 'Iron Man', 'Thor', 'Captain America', 'Doctor Strange']\n",
            "['Avengers', 'Spider-Man', 'Hulk', 'Black Widow', 'Wolverine', 'Namor']\n"
          ]
        }
      ],
      "source": [
        "team1= marvel_words[1::2]\n",
        "team2 = marvel_words[::2]\n",
        "print(team1)\n",
        "print(team2)"
      ]
    },
    {
      "cell_type": "markdown",
      "metadata": {
        "id": "-mQM5JHjm_pS"
      },
      "source": [
        "###3. Store the word 'Spider-Man' in a new variable, and slice the word 'Spider' from it."
      ]
    },
    {
      "cell_type": "code",
      "execution_count": null,
      "metadata": {
        "colab": {
          "base_uri": "https://localhost:8080/"
        },
        "id": "3umcx5a5m3Fn",
        "outputId": "50201291-db3f-409a-ce2e-9ad234058445"
      },
      "outputs": [
        {
          "name": "stdout",
          "output_type": "stream",
          "text": [
            "Spider\n"
          ]
        }
      ],
      "source": [
        "spider_man=marvel_words[2] # Add appropriate index number\n",
        "spidey_sliced=spider_man[0:6] # Add appropriate index number\n",
        "print(spidey_sliced)\n"
      ]
    },
    {
      "cell_type": "markdown",
      "metadata": {
        "id": "K_QHunxknscj"
      },
      "source": [
        "###4. Store the word 'Iron-Man' in a variable and use reverse indexing to reverse it."
      ]
    },
    {
      "cell_type": "code",
      "execution_count": null,
      "metadata": {
        "colab": {
          "base_uri": "https://localhost:8080/"
        },
        "id": "LK5c5ELwqpvW",
        "outputId": "53bd7f33-6ad9-4a08-a51e-cbed20580745"
      },
      "outputs": [
        {
          "name": "stdout",
          "output_type": "stream",
          "text": [
            "naM norI\n"
          ]
        }
      ],
      "source": [
        "#Your code here\n",
        "iron_man=marvel_words[3]\n",
        "reversed_man=iron_man[::-1]\n",
        "print(reversed_man)"
      ]
    },
    {
      "cell_type": "markdown",
      "metadata": {
        "id": "AaQqED-gt1Ij"
      },
      "source": [
        "# **Operators in Data Types**"
      ]
    },
    {
      "cell_type": "markdown",
      "metadata": {
        "id": "HNOkGnOhYRdb"
      },
      "source": [
        "\n",
        "## 🎉 Let's do some math!\n",
        "\n",
        "* 📐 First up, let's calculate the area of a square with sides that measure 5 cm. 🤔 How much space does this shape occupy?\n",
        "\n",
        "* 🔍 Next, let's find the volume of a cube with sides that measure 12 cm. 📏 How much room does this shape take up?\n",
        "\n",
        "* 🔢 Lastly, we'll find the quotient and remainder when we divide 10 by 4. 🧐 How many times does 4 fit into 10? What's left over?"
      ]
    },
    {
      "cell_type": "code",
      "execution_count": null,
      "metadata": {
        "colab": {
          "base_uri": "https://localhost:8080/"
        },
        "id": "JIBfHim7IrBG",
        "outputId": "4bfb3911-25a7-4b15-c55c-963ddeeabb66"
      },
      "outputs": [
        {
          "output_type": "stream",
          "name": "stdout",
          "text": [
            "Remainder: 2\n",
            "Quotient: 2\n",
            "Volume of Cube: 1728\n",
            "Area of Square: 25\n"
          ]
        }
      ],
      "source": [
        "ar_square= 5**2\n",
        "vol_cube= 12**3\n",
        "quotient=  10//4\n",
        "remainder= 10%4\n",
        "\n",
        "print(\"Remainder:\",remainder)\n",
        "print(\"Quotient:\",quotient)\n",
        "print(\"Volume of Cube:\",vol_cube)\n",
        "print(\"Area of Square:\",ar_square)"
      ]
    },
    {
      "cell_type": "markdown",
      "metadata": {
        "id": "nAX2nLAZWpKI"
      },
      "source": [
        "## 📚 Let's practice some comparison operators! Here's a problem for you to solve:\n",
        "\n",
        "🍎 The first basket contains 12 apples, and the second basket contains 8 apples. Use comparison operators to answer the following questions:\n",
        "\n",
        "* Is the number of apples in the first basket greater than the number of apples in the second basket?\n",
        "\n",
        "* Is the number of apples in the second basket less than or equal to the number of apples in the first basket?\n",
        "* Is the number of apples in the first basket equal to the number of apples in the second basket?\n",
        "* Is the number of apples in the second basket not equal to the number of apples in the first basket?\n",
        "\n",
        "Use comparison operators (i.e. >, >=, <, <=, ==, !=) in your code to answer each question. Good luck! 🍎🍏"
      ]
    },
    {
      "cell_type": "code",
      "execution_count": null,
      "metadata": {
        "id": "-TsVx5cdWpKI",
        "colab": {
          "base_uri": "https://localhost:8080/"
        },
        "outputId": "b3d642c9-554a-4e82-f419-b9c86fb3302a"
      },
      "outputs": [
        {
          "output_type": "stream",
          "name": "stdout",
          "text": [
            "Is the number of apples in the first basket greater than the number of apples in the second basket?\n",
            " True\n",
            "Is the number of apples in the second basket less than or equal to the number of apples in the first basket?\n",
            " True\n",
            "Is the number of apples in the first basket equal to the number of apples in the second basket?\n",
            " False\n",
            "Is the number of apples in the second basket not equal to the number of apples in the first basket?\n",
            " True\n"
          ]
        }
      ],
      "source": [
        "# Your code here\n",
        "basket1= 12\n",
        "basket2= 8\n",
        "\n",
        "print('Is the number of apples in the first basket greater than the number of apples in the second basket?\\n', basket1 > basket2)\n",
        "print('Is the number of apples in the second basket less than or equal to the number of apples in the first basket?\\n', basket1 >= basket2)\n",
        "print('Is the number of apples in the first basket equal to the number of apples in the second basket?\\n', basket1 == basket2)\n",
        "print('Is the number of apples in the second basket not equal to the number of apples in the first basket?\\n', basket1 != basket2)\n"
      ]
    },
    {
      "cell_type": "markdown",
      "metadata": {
        "id": "7_yNqud-j1TS"
      },
      "source": [
        "## 🌴 Are you ready for your trip to Goa? 🌊 You've got two bags with you, and you need to make sure they're light enough to board the flight. Let's use some logical operators to find out if you can make it on time!\n",
        "\n",
        "🧳 One of your bags weighs 15 kg, while the other one weighs only 5 kg. 💪 You know you can pack a lot more in the heavier bag, but you have to be careful not to go over the weight limit.\n",
        "\n",
        "👮‍♀️ The airline has a strict policy that both of your bags must weigh less than 13 kg each. Can you make it on the flight? Let's use logical operators to find out!"
      ]
    },
    {
      "cell_type": "code",
      "execution_count": null,
      "metadata": {
        "colab": {
          "base_uri": "https://localhost:8080/"
        },
        "id": "3S-wDvHbZYvx",
        "outputId": "54a6e6aa-2003-457e-d1a7-c7b1f8dcbe84"
      },
      "outputs": [
        {
          "output_type": "stream",
          "name": "stdout",
          "text": [
            "Sorry, you can not go through!\n"
          ]
        }
      ],
      "source": [
        "# Define the weight of your bags\n",
        "bag1_weight = 15\n",
        "bag2_weight = 5\n",
        "\n",
        "\n",
        "# Check if both bags weigh less than 13 kg\n",
        "\n",
        "if bag1_weight < 13 and bag2_weight < 13:\n",
        "    print(\"Enjoy your trip!\")\n",
        "else:\n",
        "    print(\"Sorry, you can not go through!\")\n"
      ]
    },
    {
      "cell_type": "markdown",
      "metadata": {
        "id": "bF2FQenhZZPq"
      },
      "source": [
        "🧳 Uh oh, it looks like we have a problem with our bags! But don't worry, the crew has offered a solution. 😊\n",
        "\n",
        "👨‍✈️ They've said that if at least one of our bags weighs less than 6 kg, we can still board the flight this time. 🛫\n",
        "\n",
        "🤔 Are we ready for the trip or not? Let's use some logical operators to find out!"
      ]
    },
    {
      "cell_type": "code",
      "execution_count": null,
      "metadata": {
        "colab": {
          "base_uri": "https://localhost:8080/"
        },
        "id": "7ndd_Gw3bhIz",
        "outputId": "a3ab088f-41ec-4ea5-a716-37b06defa1a4"
      },
      "outputs": [
        {
          "output_type": "stream",
          "name": "stdout",
          "text": [
            "Enjoy your trip!\n"
          ]
        }
      ],
      "source": [
        "# Define the weight of your bags\n",
        "bag1_weight = 15\n",
        "bag2_weight = 5\n",
        "\n",
        "# Check if at least one bag weighs less than 6 kg\n",
        "# If the result is False, print(\"Sorry, You can not go through!\")\n",
        "# Else, if the result is True, print(\"Enjoy your trip!\")\n",
        "\n",
        "if bag1_weight<6 and bag2_weight<6:\n",
        "  print('Sorry, You can not go through!')\n",
        "else:\n",
        "  print(\"Enjoy your trip!\")\n",
        "\n"
      ]
    },
    {
      "cell_type": "markdown",
      "metadata": {
        "id": "vqQMQs4geeYm"
      },
      "source": [
        "🤔 Did you notice how we made a decision on which print statement to use based on the result of our logical operators? 🤔\n",
        "\n",
        "🚀 Later on, we're going to learn how to do this in a single step, making it even easier for you. So stay curious 😎"
      ]
    },
    {
      "cell_type": "markdown",
      "metadata": {
        "id": "0yVUrg0NLnxz"
      },
      "source": [
        "## 📚 Imagine that you're a book lover with a collection of lot of books. 🤓\n",
        "\n",
        "🔎 You need to find out how many of your books contain the word \"Python\" in them. 🐍"
      ]
    },
    {
      "cell_type": "code",
      "execution_count": null,
      "metadata": {
        "id": "HE7i9PDDjSLB"
      },
      "outputs": [],
      "source": [
        "books = [\n",
        "    \"Python for Data Science Handbook by Jake VanderPlas\",\n",
        "    \"The Pragmatic Programmer by Andrew Hunt and David Thomas\",\n",
        "    \"Python Machine Learning by Sebastian Raschka\",\n",
        "    \"The Alchemist by Paulo Coelho\",\n",
        "]\n",
        "count = 0"
      ]
    },
    {
      "cell_type": "code",
      "execution_count": null,
      "metadata": {
        "id": "tsmvcBHgjfPa"
      },
      "outputs": [],
      "source": [
        "if \"Python\" in books[3]:\n",
        "  count +=1      # Change x to 0,1,2 and 3.\n",
        "\n",
        "# If True, increase the count variable by 1."
      ]
    },
    {
      "cell_type": "code",
      "execution_count": null,
      "metadata": {
        "colab": {
          "base_uri": "https://localhost:8080/"
        },
        "id": "azxYqoEAkbN6",
        "outputId": "e0647d5b-a01d-497a-a6f0-18bb1048cb85"
      },
      "outputs": [
        {
          "output_type": "stream",
          "name": "stdout",
          "text": [
            "2\n"
          ]
        }
      ],
      "source": [
        "    # run this only once\n",
        "print(count)"
      ]
    },
    {
      "cell_type": "markdown",
      "metadata": {
        "id": "B80a_pgbGRll"
      },
      "source": [
        "# **In-Built Functions & Methods**"
      ]
    },
    {
      "cell_type": "markdown",
      "metadata": {
        "id": "rg1rF2AJqlrU"
      },
      "source": [
        "## Here is a string for you to work with:"
      ]
    },
    {
      "cell_type": "code",
      "execution_count": null,
      "metadata": {
        "id": "x5DsgVU5pYep"
      },
      "outputs": [],
      "source": [
        "# Here is the statement.\n",
        "\n",
        "statement = \"anas eagerly recommended 'the shawshank redemption' to his friends. He described the movie as a captivating and emotional story of hope and friendship. His friends decided to watch it together the following weekend.\""
      ]
    },
    {
      "cell_type": "code",
      "execution_count": null,
      "metadata": {
        "colab": {
          "base_uri": "https://localhost:8080/"
        },
        "id": "0qMdyUT8Mgv4",
        "outputId": "e7236d71-4edf-4bba-ba7b-de9528f2beaa"
      },
      "outputs": [
        {
          "output_type": "stream",
          "name": "stdout",
          "text": [
            "anas eagerly recommended 'the shawshank redemption' to his friends. He described the movie as a captivating and emotional story of hope and friendship. His friends decided to watch it together the following weekend.\n"
          ]
        }
      ],
      "source": [
        "print(statement)"
      ]
    },
    {
      "cell_type": "markdown",
      "metadata": {
        "id": "eWwJCSZcrGQr"
      },
      "source": [
        "1. Create a list containing the three sentences in the statement.\n",
        "Hint: Use split() method."
      ]
    },
    {
      "cell_type": "code",
      "execution_count": null,
      "metadata": {
        "colab": {
          "base_uri": "https://localhost:8080/"
        },
        "id": "cjAgMMBzqUPX",
        "outputId": "7aaa7639-2347-41c9-c53b-0ff3b22e8081"
      },
      "outputs": [
        {
          "output_type": "stream",
          "name": "stdout",
          "text": [
            "[\"anas eagerly recommended 'the shawshank redemption' to his friends\", ' He described the movie as a captivating and emotional story of hope and friendship', ' His friends decided to watch it together the following weekend', '']\n"
          ]
        }
      ],
      "source": [
        "# Create a list containing the three sentences in the statement.\n",
        "\n",
        "sentence_list= statement.split('.')\n",
        "print(sentence_list)"
      ]
    },
    {
      "cell_type": "markdown",
      "metadata": {
        "id": "lutxbv7crjLV"
      },
      "source": [
        "2. The name 'anas' is spelled wrong. Replace it with 'Anas'."
      ]
    },
    {
      "cell_type": "code",
      "execution_count": null,
      "metadata": {
        "colab": {
          "base_uri": "https://localhost:8080/"
        },
        "id": "wihquZM3pptr",
        "outputId": "3597779f-9820-4537-c971-249c7cdcb8a2"
      },
      "outputs": [
        {
          "output_type": "stream",
          "name": "stdout",
          "text": [
            "Anas eagerly recommended 'the shawshank redemption' to his friends. He described the movie as a captivating and emotional story of hope and friendship. His friends decided to watch it together the following weekend.\n"
          ]
        }
      ],
      "source": [
        "# The name 'anas' is spelled wrong.\n",
        "# Replace it with 'Anas'.\n",
        "\n",
        "statement=  statement.replace('anas','Anas')\n",
        "print(statement)\n"
      ]
    },
    {
      "cell_type": "markdown",
      "metadata": {
        "id": "HaY-Pmgrr14E"
      },
      "source": [
        "3. The title of the book is not written in the correct cases as well. Make corrections there."
      ]
    },
    {
      "cell_type": "code",
      "execution_count": null,
      "metadata": {
        "colab": {
          "base_uri": "https://localhost:8080/"
        },
        "id": "qy50EVKesKoa",
        "outputId": "260485ce-bcfa-4c7f-c2d7-62ad1fa37323"
      },
      "outputs": [
        {
          "output_type": "stream",
          "name": "stdout",
          "text": [
            "Anas eagerly recommended 'The Shawshank Redemption' to his friends. He described the movie as a captivating and emotional story of hope and friendship. His friends decided to watch it together the following weekend.\n"
          ]
        }
      ],
      "source": [
        "# Make corrections here.\n",
        "statement= statement.replace('the shawshank redemption','the shawshank redemption'.title())\n",
        "print(statement)"
      ]
    },
    {
      "cell_type": "markdown",
      "metadata": {
        "id": "g7-df8O_sa8w"
      },
      "source": [
        "4. You believe \"The Shawshank Redemption\" would be bit too gloomy for the lot. Take user input of which movie to recommend and replace \"The Shawshank Redemption\" from the statement with the new recommendation."
      ]
    },
    {
      "cell_type": "code",
      "execution_count": null,
      "metadata": {
        "colab": {
          "base_uri": "https://localhost:8080/"
        },
        "id": "FaoDdYues1sT",
        "outputId": "256a6ffd-40c9-462a-bc14-8a6c46e65fe1"
      },
      "outputs": [
        {
          "output_type": "stream",
          "name": "stdout",
          "text": [
            "Which movie wold you recommend?  Main Khiladi Tu Anari\n",
            "Anas eagerly recommended ' Main Khiladi Tu Anari'' to his friends. He described the movie as a captivating and emotional story of hope and friendship. His friends decided to watch it together the following weekend.\n"
          ]
        }
      ],
      "source": [
        "# Change the recommendation of movie to one, of your choice.\n",
        "# Take input of movie\n",
        "\n",
        "new_movie=input(\"Which movie wold you recommend? \")\n",
        "statement= statement.replace('The Shawshank Redemption',new_movie)\n",
        "print(statement)"
      ]
    },
    {
      "cell_type": "markdown",
      "metadata": {
        "id": "qCn4QduqtXLg"
      },
      "source": [
        "## 🎥 Suppose you have a collection of your favorite movies 🍿🎞️ and you want to keep track of them using a Python list 📜. You start with an empty list [] and keep adding new movies 🆕 to it. You also want to be able to remove movies ❌ that you have watched or no longer wish to keep in your collection. Finally, you want to be able to count 🔢 how many movies you have in your collection and reverse the order of the list 🔄."
      ]
    },
    {
      "cell_type": "code",
      "execution_count": null,
      "metadata": {
        "colab": {
          "base_uri": "https://localhost:8080/"
        },
        "id": "gHyiib9ptWpx",
        "outputId": "95134d46-40e7-4419-d829-19972a9e1b0d"
      },
      "outputs": [
        {
          "output_type": "stream",
          "name": "stdout",
          "text": [
            "My Movie Collection: ['3 Idiots', 'Khata Metha', 'OMG', 'Avatar', 'Thor']\n",
            "['3 Idiots', 'Khata Metha', 'OMG', 'Thor']\n",
            "4\n",
            "Reversed movie collection: ['Thor', 'OMG', 'Khata Metha', '3 Idiots']\n"
          ]
        }
      ],
      "source": [
        "# Start with an empty list\n",
        "movie_collection = []\n",
        "\n",
        "# Add some movies to the collection using the append() method\n",
        "movie_collection.append(\"3 Idiots\") # Use your favourite movie names\n",
        "movie_collection.append(\"Khata Metha\")\n",
        "movie_collection.append(\"OMG\")\n",
        "movie_collection.append(\"Avatar\")\n",
        "movie_collection.append(\"Thor\")\n",
        "\n",
        "# Print the current collection of movies\n",
        "print(\"My Movie Collection:\", movie_collection)\n",
        "\n",
        "# Remove a movie from the collection using the pop() method\n",
        "# Code to remove index 3 here/\n",
        "movie_collection.pop(3)\n",
        "print( movie_collection)\n",
        "\n",
        "# Count how many movies are in the collection using the count() method\n",
        "num_movies = len(movie_collection)\n",
        "print(num_movies)\n",
        "\n",
        "# Reverse the order of the list using the reverse() method\n",
        "movie_collection.reverse()\n",
        "print(\"Reversed movie collection:\", movie_collection)\n"
      ]
    },
    {
      "cell_type": "markdown",
      "metadata": {
        "id": "uEY4_vNcvEZj"
      },
      "source": [
        "## 👩‍🏫 A teacher has stored the names of his students in a tuple as follows:\n",
        "('Adam','Alice','Ben','Bilal','Bharath')\n",
        "\n",
        "👨‍🎓 Their role numbers are defined as their index number + 1.\n",
        "\n",
        "🖥️ Write a program which would take the name of the student as input and return their role number."
      ]
    },
    {
      "cell_type": "code",
      "source": [
        "student_tupple=('Adam','Alice','Ben','Bilal','Bharath')\n",
        "s = input('Enter name ')\n",
        "print('roll no is :', student_tupple.index(s)+1)"
      ],
      "metadata": {
        "colab": {
          "base_uri": "https://localhost:8080/"
        },
        "id": "XA0ff4CHsyFx",
        "outputId": "bf9234b8-f39a-451e-c958-bb5060e4ef09"
      },
      "execution_count": null,
      "outputs": [
        {
          "output_type": "stream",
          "name": "stdout",
          "text": [
            "Enter name Bilal\n",
            "roll no is : 4\n"
          ]
        }
      ]
    },
    {
      "cell_type": "code",
      "execution_count": null,
      "metadata": {
        "id": "MuXV52jRwNWR"
      },
      "outputs": [],
      "source": [
        "student_tupple=('Adam','Alice','Ben','Bilal','Bharath')"
      ]
    },
    {
      "cell_type": "code",
      "execution_count": null,
      "metadata": {
        "colab": {
          "base_uri": "https://localhost:8080/"
        },
        "id": "XPMNZkTnwRhb",
        "outputId": "91005cf6-e965-4948-cc8b-586b2e017cbb"
      },
      "outputs": [
        {
          "output_type": "stream",
          "name": "stdout",
          "text": [
            "Input the student name to get roll number - Ben\n",
            "Ben 's roll number is:  3\n"
          ]
        }
      ],
      "source": [
        "# Take input from user and display role number as index of the input + 1\n",
        "student=input(\"Input the student name to get roll number - \")\n",
        "print(student,\"'s roll number is: \", student_tupple.index(student)+1) # Replace x with appropriate value"
      ]
    },
    {
      "cell_type": "markdown",
      "metadata": {
        "id": "8fz0W273yMnA"
      },
      "source": [
        "## A store 🏪 sells different types of fruits 🍎🍌🍇🍓 in baskets 🧺. The storekeeper 🧑 keeps track of the availability of each fruit type in separate sets. The storekeeper wants to know which fruits are available in both baskets, which fruits are unique to each basket, and the total number of fruits available. 🤔"
      ]
    },
    {
      "cell_type": "code",
      "execution_count": null,
      "metadata": {
        "id": "v8PqzLt52z15",
        "colab": {
          "base_uri": "https://localhost:8080/"
        },
        "outputId": "387ede85-7bf4-49b3-bb41-0fd292f837f1"
      },
      "outputs": [
        {
          "output_type": "stream",
          "name": "stdout",
          "text": [
            "Total number of fruits available: 6\n",
            "All the available fruits: {'mango', 'pineapple', 'apple', 'orange', 'banana', 'grape'}\n",
            "Common fruits in both baskets: {'banana', 'orange'}\n",
            "Fruits unique to basket 1: {'grape', 'apple'}\n",
            "Fruits unique to basket 2: {'mango', 'pineapple'}\n"
          ]
        }
      ],
      "source": [
        "# Define sets for fruits in each basket\n",
        "basket1 = {'apple', 'banana', 'grape', 'orange'}\n",
        "basket2 = {'banana', 'mango', 'pineapple', 'orange'}\n",
        "both_baskets = basket1.union(basket2)\n",
        "# Find the total number of fruits available\n",
        "total_fruits = len(both_baskets)\n",
        "print(\"Total number of fruits available:\", total_fruits)\n",
        "\n",
        "# Find fruits available in both baskets\n",
        "both_baskets = basket1 | basket2   # Replace x with appropriate method\n",
        "print(\"All the available fruits:\", both_baskets)\n",
        "\n",
        "# Find only the common fruits in both baskets\n",
        "common_fruits = basket1 & basket2   # Replace x with appropriate method\n",
        "print(\"Common fruits in both baskets:\", common_fruits)\n",
        "\n",
        "# Find fruits unique to each basket\n",
        "unique_basket1 = basket1 - basket2    # Replace x with appropriate method\n",
        "unique_basket2 = basket2 - basket1    # Replace x with appropriate method\n",
        "print(\"Fruits unique to basket 1:\", unique_basket1)\n",
        "print(\"Fruits unique to basket 2:\", unique_basket2)\n",
        "\n",
        "\n"
      ]
    },
    {
      "cell_type": "markdown",
      "metadata": {
        "id": "gklgsrl6kIW8"
      },
      "source": [
        "# **Statements, Indentation & Conditionals**"
      ]
    },
    {
      "cell_type": "markdown",
      "metadata": {
        "id": "ByhB8JrbeqQB"
      },
      "source": [
        "## 👉 Imagine that you are a food inspector who is responsible for inspecting the lead content of a packaged food material at a factory. If the content exceeds 5%, you should print the message \"This batch cannot be approved\".\n"
      ]
    },
    {
      "cell_type": "code",
      "execution_count": null,
      "metadata": {
        "id": "SZMMKSXteqQC",
        "colab": {
          "base_uri": "https://localhost:8080/"
        },
        "outputId": "3a2f828a-c484-4996-df6d-b738b20f077f"
      },
      "outputs": [
        {
          "output_type": "stream",
          "name": "stdout",
          "text": [
            "Please enter the lead content of the packaged food material in percentage: 6\n",
            "This batch cannot be approved\n"
          ]
        }
      ],
      "source": [
        "# Get the lead content of the packaged food material\n",
        "lead_content = float(input(\"Please enter the lead content of the packaged food material in percentage: \"))\n",
        "\n",
        "# Check if the lead content exceeds 5%\n",
        "\n",
        "if lead_content > 5:\n",
        "  print('This batch cannot be approved')\n"
      ]
    },
    {
      "cell_type": "markdown",
      "metadata": {
        "id": "AbgFO_SEeqQD"
      },
      "source": [
        "## 👉 Imagine: You're a bouncer at a nightclub and need to check if someone is old enough to enter. The legal age for entry is 18 years. If the person is less than 18 years print \"Sorry You can not enter!\"."
      ]
    },
    {
      "cell_type": "code",
      "execution_count": null,
      "metadata": {
        "colab": {
          "base_uri": "https://localhost:8080/"
        },
        "id": "0uZg98vneqQE",
        "outputId": "37d24157-2e4d-4efe-a9d6-7314d2bcdde8"
      },
      "outputs": [
        {
          "output_type": "stream",
          "name": "stdout",
          "text": [
            "enter the age11\n",
            "Sorry You can not enter!\n"
          ]
        }
      ],
      "source": [
        "age = int(input(\"enter the age \"))\n",
        "\n",
        "\n",
        "#Check the age of the guest\n",
        "\n",
        "if age<18:\n",
        "  print('Sorry You can not enter!')\n"
      ]
    },
    {
      "cell_type": "markdown",
      "metadata": {
        "id": "fmzxpgNEo1Le"
      },
      "source": [
        "## 👉 Imagine you are a fitness instructor who needs to evaluate if a client has reached their weight loss goal. The target weight loss goal is 10 pounds. If the client has lost at least 10 pounds, you should print the message \"Congratulations, you have reached your weight loss goal!\" However, if the client has lost less than 10 pounds, you should print \"Sorry, you have not reached your weight loss goal yet. Keep up the good work!\""
      ]
    },
    {
      "cell_type": "code",
      "execution_count": null,
      "metadata": {
        "id": "nDMEHColo5hu",
        "colab": {
          "base_uri": "https://localhost:8080/"
        },
        "outputId": "0b42bd52-9de5-457e-a55f-7aa3f4cba36b"
      },
      "outputs": [
        {
          "output_type": "stream",
          "name": "stdout",
          "text": [
            "Please enter the client's weight loss (in pounds): 9\n",
            "Sorry, you have not reached your weight loss goal yet. Keep up the good work!\n"
          ]
        }
      ],
      "source": [
        "# Get the client's weight loss\n",
        "client_weight_loss = float(input(\"Please enter the client's weight loss (in pounds): \"))\n",
        "\n",
        "# Check if the client reached their weight loss goal\n",
        "\n",
        "if client_weight_loss >=10:\n",
        "  print( \"Congratulations, you have reached your weight loss goal!\")\n",
        "else:\n",
        "  print(\"Sorry, you have not reached your weight loss goal yet. Keep up the good work!\")\n"
      ]
    },
    {
      "cell_type": "markdown",
      "metadata": {
        "id": "eLOwny2bprgv"
      },
      "source": [
        "##👉 Imagine: You're a gardener and need to check if a plant needs watering. If the soil moisture level is below 40%, print \"Water the plant!\", otherwise, print \"The plant doesn't need watering.\""
      ]
    },
    {
      "cell_type": "code",
      "execution_count": null,
      "metadata": {
        "id": "8SAviqFOp1xX",
        "colab": {
          "base_uri": "https://localhost:8080/"
        },
        "outputId": "af6d5a38-9623-41ed-996a-4cdccf30932b"
      },
      "outputs": [
        {
          "output_type": "stream",
          "name": "stdout",
          "text": [
            "Enter moisture level 40\n",
            "The plant doesn't need watering.\n"
          ]
        }
      ],
      "source": [
        "# Take input of moisture level\n",
        "moisture_level = int(input(\"Enter moisture level \"))\n",
        "\n",
        "#Check if moisture level is satisfactory or not\n",
        "\n",
        "if moisture_level<40:\n",
        "  print(\"Water the plant!\")\n",
        "else:\n",
        "  print(\"The plant doesn't need watering.\")"
      ]
    },
    {
      "cell_type": "markdown",
      "metadata": {
        "id": "XA2dKqlxMVsH"
      },
      "source": [
        "##📦📬🚚 Creating a shipping cost calculator! ⚙️\n",
        "\n",
        "You need to create a program that calculates the cost of shipping a package based on its weight and destination 📦💰\n",
        "\n",
        "🌍 Domestic shipping within the country :\n",
        "\n",
        "* Packages weighing up to 1 kg cost Rs.50 to ship 🤑\n",
        "Each additional kg costs Rs.10 extra 💰\n",
        "\n",
        "🌎 International shipping to other countries 🌏:\n",
        "\n",
        "* Packages weighing up to 1 kg cost Rs.500 to ship 🤑\n",
        "\n",
        "Each additional kg costs Rs.100 extra 💰\n",
        "Ready to ship? 🚛🚀"
      ]
    },
    {
      "cell_type": "code",
      "source": [
        "destination = input(\"domestic or International \")\n",
        "weight = int(input('Enter the shipment weight: '))\n",
        "\n",
        "if destination == 'domestic':\n",
        "  if weight == 1:\n",
        "    cost = 50\n",
        "  else:\n",
        "    cost = 50 + (weight -1) * 10\n",
        "\n",
        "if destination == 'International':\n",
        "  if weight == 1:\n",
        "    cost = 500\n",
        "  else:\n",
        "    cost = 100 + (weight -1) * 100\n",
        "\n",
        "print(destination,' shipment cost  is ', cost)\n"
      ],
      "metadata": {
        "colab": {
          "base_uri": "https://localhost:8080/"
        },
        "id": "n-zt5-IKILLJ",
        "outputId": "56d0371f-f8eb-4c15-986e-8c8aaf8080dd"
      },
      "execution_count": null,
      "outputs": [
        {
          "output_type": "stream",
          "name": "stdout",
          "text": [
            "domestic or International International\n",
            "Enter the shipment weight: 5\n",
            "International  shipment cost  is  500\n"
          ]
        }
      ]
    },
    {
      "cell_type": "markdown",
      "metadata": {
        "id": "gLPLG7NaYofV"
      },
      "source": [
        ":\n",
        "## 🚗 As a car dealership manager, you need to create a discount system for your customers based on the price of the car they want to buy. Here are the rules! 📝\n",
        "\n",
        "🚘 If the car price is less than Rs. 10,00,000, there is no discount.\n",
        "\n",
        "🎁 If the car price is between Rs. 10,00,000 and Rs. 20,00,000, there is a discount of 5%.\n",
        "\n",
        "🎉 If the car price is between Rs. 20,00,000 and Rs. 30,00,000, there is a discount of 7.5%.\n",
        "\n",
        "🥳 If the car price is greater than Rs. 30,00,000, there is a discount of 10%.\n",
        "\n",
        "Are you ready to make your customers happy with these discounts? 🚗💰"
      ]
    },
    {
      "cell_type": "code",
      "source": [
        "price = int(input('Enter the price of car: '))\n",
        "\n",
        "if price > 300000:\n",
        "  discount = 10\n",
        "elif price > 200000:\n",
        "  discount = 7.5\n",
        "elif price > 100000:\n",
        "  discount = 5\n",
        "else:\n",
        "  discount = 0\n",
        "\n",
        "print('Discount allowed on ',price,'is',discount,'%')"
      ],
      "metadata": {
        "colab": {
          "base_uri": "https://localhost:8080/"
        },
        "id": "ZSQz6PkzJoCg",
        "outputId": "59a70ead-3f32-4dd6-c988-b188a03463da"
      },
      "execution_count": null,
      "outputs": [
        {
          "output_type": "stream",
          "name": "stdout",
          "text": [
            "Enter the price of car: 150000\n",
            "Discount allowed on  150000 is 5 %\n"
          ]
        }
      ]
    },
    {
      "cell_type": "markdown",
      "metadata": {
        "id": "9PNEVRVaIfLS"
      },
      "source": [
        "# **Loops & Iterations**"
      ]
    },
    {
      "cell_type": "markdown",
      "metadata": {
        "id": "QFad4dlHWjvx"
      },
      "source": [
        "## You and your friends are playing a board game where you roll a dice and move your game piece accordingly. However, you want to know the average number rolled by each player to see who's really the luckiest. Write a program that takes a list of rolls as input for each player and uses a for loop to calculate the average roll for each player. The winner gets bragging rights for being the luckiest!\n",
        "\n",
        "\n"
      ]
    },
    {
      "cell_type": "code",
      "execution_count": null,
      "metadata": {
        "id": "3-X0wqWCzuna"
      },
      "outputs": [],
      "source": [
        "player_rolls = [\n",
        "    [3, 5, 6, 2, 1],  # player 1's rolls\n",
        "    [4, 4, 6, 3, 2],  # player 2's rolls\n",
        "    [1, 5, 6, 6, 4]   # player 3's rolls\n",
        "] # list of a list"
      ]
    },
    {
      "cell_type": "code",
      "execution_count": null,
      "metadata": {
        "id": "2Y9gP41ewxLM",
        "colab": {
          "base_uri": "https://localhost:8080/"
        },
        "outputId": "fc67d0ed-a578-478e-986c-fa8e58b8970a"
      },
      "outputs": [
        {
          "output_type": "stream",
          "name": "stdout",
          "text": [
            "[3, 5, 6, 2, 1]\n",
            "Player 1's average is 3.4\n",
            "[4, 4, 6, 3, 2]\n",
            "Player 2's average is 3.8\n",
            "[1, 5, 6, 6, 4]\n",
            "Player 3's average is 4.4\n"
          ]
        }
      ],
      "source": [
        "max_avg = 0\n",
        "max_index = 0\n",
        "\n",
        "#for loop for iteration\n",
        "for index in range(len(player_rolls)):\n",
        "  print(player_rolls[index])\n",
        "  average_index = sum(player_rolls[index])/len(player_rolls[index])\n",
        "  if average_index>max_avg:\n",
        "    max_avg = average_index\n",
        "    max_index = index\n",
        "    print(f\"Player {index + 1 }'s average is {average_index}\")"
      ]
    },
    {
      "cell_type": "markdown",
      "metadata": {
        "id": "y3BYcWJyzUVn"
      },
      "source": [
        "**Instructions:**\n",
        "\n",
        "1. Define a list of rolls for each player, where each list contains the numbers rolled by the player.\n",
        "2. Use a for loop to iterate over each player's rolls in the list of player rolls.\n",
        "3. For each player, calculate the average roll by summing up all the rolls and dividing by the number of rolls. You can use the formula sum(rolls) / len(rolls) to do this.\n",
        "4. Print out each player's average roll using f-strings to display the player number and their average roll to two decimal places."
      ]
    },
    {
      "cell_type": "markdown",
      "metadata": {
        "id": "VB0b9bivcyKL"
      },
      "source": [
        "## Write a Python program that analyzes a list of names and sorts them into two categories: those that start with a vowel and those that start with a consonant. To achieve this, you'll use a nested loop and some basic conditional statements."
      ]
    },
    {
      "cell_type": "code",
      "execution_count": null,
      "metadata": {
        "id": "-tuXcVjceNDA",
        "colab": {
          "base_uri": "https://localhost:8080/"
        },
        "outputId": "067bcfda-ea61-474e-cc2f-a9e55d888a96"
      },
      "outputs": [
        {
          "output_type": "stream",
          "name": "stdout",
          "text": [
            "Names starting with vowels are ['Alice', 'Eve', 'Ivy', 'Olivia']\n",
            "Names starting with consonant are ['Bob', 'Charlie', 'David', 'Peter']\n"
          ]
        }
      ],
      "source": [
        "names = [\"Alice\", \"Bob\", \"Eve\", \"Charlie\", \"Ivy\", \"David\", \"Olivia\", \"Peter\"]\n",
        "vowels = []\n",
        "consonant = []\n",
        "\n",
        "for name in names:\n",
        "  if name[0] in 'aeiouAEIOU':\n",
        "    vowels.append(name)\n",
        "  else:\n",
        "    consonant.append(name)\n",
        "\n",
        "print(f'Names starting with vowels are {vowels}')\n",
        "print(f'Names starting with consonant are {consonant}')"
      ]
    },
    {
      "cell_type": "markdown",
      "metadata": {
        "id": "7kDiyL4K74s0"
      },
      "source": [
        "**Instructions**\n",
        "\n",
        "1. Start by defining a list of names. You can call this list names and initialize it with a few names.\n",
        "\n",
        "2. Define two empty lists to store the names that start with vowels and consonants, respectively. You can call these lists vowel_names and consonant_names.\n",
        "\n",
        "3. Use a nested loop to iterate through each name in the names list. The outer loop should iterate through each name, while the inner loop should iterate through each character in the name.\n",
        "\n",
        "4. Inside the inner loop, use an if statement to check if the first letter of the name is a vowel or a consonant. You can do this by checking if the first character of the name is in a list of vowels.\n",
        "\n",
        "5. If the first letter is a vowel, append the name to the vowel_names list using the append() method.\n",
        "\n",
        "6. If the first letter is a consonant, append the name to the consonant_names list using the append() method.\n",
        "\n",
        "7. Once the loop has finished iterating through all the names, use the print() function to print the two lists of names. You can include a message indicating which list contains the names that start with vowels and which list contains the names that start with consonants"
      ]
    },
    {
      "cell_type": "markdown",
      "metadata": {
        "id": "-8hkwqg8m8wN"
      },
      "source": [
        "## You are a teacher and you have a dictionary containing the grades of your students in a particular subject. The keys of the dictionary are the names of the students, and the values are their respective grades. You need to find the students who scored above 90% and print out their names."
      ]
    },
    {
      "cell_type": "code",
      "execution_count": null,
      "metadata": {
        "id": "FB2JqhT_nYSe",
        "colab": {
          "base_uri": "https://localhost:8080/"
        },
        "outputId": "ec3c8864-cea2-4241-9a0a-b3c97c5c8694"
      },
      "outputs": [
        {
          "output_type": "stream",
          "name": "stdout",
          "text": [
            "Bob\n",
            "David\n",
            "Frank\n"
          ]
        }
      ],
      "source": [
        "# Define the grades dictionary\n",
        "grades = {\n",
        "    'Alice': 85,\n",
        "    'Bob': 92,\n",
        "    'Charlie': 88,\n",
        "    'David': 95,\n",
        "    'Emily': 78,\n",
        "    'Frank': 91\n",
        "}\n",
        "\n",
        "# Write Your Code Here\n",
        "\n",
        "for name,grade in grades.items():\n",
        "  if grade>90:\n",
        "    print(name)"
      ]
    },
    {
      "cell_type": "markdown",
      "metadata": {
        "id": "TPiFO0N8Auts"
      },
      "source": [
        "**Instruction**\n",
        "\n",
        "1. Define a dictionary to store the grades of the students. The keys of the dictionary should be the names of the students, and the values should be their respective grades.\n",
        "\n",
        "2. Loop through the dictionary using a for loop and retrieve the grade of each student.\n",
        "\n",
        "3. Check if the grade is greater than 90%. If it is, print out the name of the student.\n",
        "\n",
        "4. Repeat steps 2-3 for all the students in the dictionary.\n",
        "\n",
        "5. Once the loop is complete, the names of the students who scored above 90% will have been printed to the console."
      ]
    },
    {
      "cell_type": "markdown",
      "metadata": {
        "id": "MiVYVRLSfEKR"
      },
      "source": [
        "### **Solution**"
      ]
    },
    {
      "cell_type": "code",
      "execution_count": null,
      "metadata": {
        "colab": {
          "base_uri": "https://localhost:8080/"
        },
        "id": "fRk3_IB8fKaW",
        "outputId": "90bbf6df-b805-4ab4-a35c-21606dab414b"
      },
      "outputs": [
        {
          "name": "stdout",
          "output_type": "stream",
          "text": [
            "Bob\n",
            "David\n",
            "Frank\n"
          ]
        }
      ],
      "source": [
        "# Define the grades dictionary\n",
        "grades = {\n",
        "    'Alice': 85,\n",
        "    'Bob': 92,\n",
        "    'Charlie': 88,\n",
        "    'David': 95,\n",
        "    'Emily': 78,\n",
        "    'Frank': 91\n",
        "}\n",
        "\n",
        "# Write Your Code Here\n",
        "for student, grade in grades.items():\n",
        "    if grade > 90:\n",
        "        print(student)"
      ]
    },
    {
      "cell_type": "markdown",
      "metadata": {
        "id": "zr6auy0z5TvR"
      },
      "source": [
        "## You're given a nested list of numbers, and your task is to count the number of odd and even numbers in the list. To achieve this, you'll use a nested loop and some basic conditional statements.\n",
        "\n",
        "List - numbers = [\n",
        "    [2, 5, 11, 20, 8],\n",
        "    [9, 4, 15, 28, 17],\n",
        "    [1, 6, 21, 18, 3],\n",
        "    [10, 13, 25, 33, 30],\n",
        "    [14, 7, 16, 19, 22]\n",
        "]"
      ]
    },
    {
      "cell_type": "markdown",
      "metadata": {
        "id": "enPfQ0-Zkodd"
      },
      "source": [
        "**Instructions**\n",
        "\n",
        "1. Inititate the odd and even count variables.\n",
        "2. Iterate through the outer list first. ie, [2,5,11,20,8] would be the item in the first iteration.\n",
        "3. Iterate through this resulting list using an inner for loop.\n",
        "4. Check if the number is odd or even, and add the count to the counter variables initialised before.\n",
        "5. Print the odd and even counts.\n"
      ]
    },
    {
      "cell_type": "code",
      "execution_count": null,
      "metadata": {
        "id": "WDIj__rukmfu",
        "colab": {
          "base_uri": "https://localhost:8080/"
        },
        "outputId": "9058a95c-9262-4222-fe49-05a6d46d7a67"
      },
      "outputs": [
        {
          "output_type": "stream",
          "name": "stdout",
          "text": [
            "even number count is 12\n",
            "odd number count is 13\n"
          ]
        }
      ],
      "source": [
        "# List of numbers\n",
        "numbers = [\n",
        "    [2, 5, 11, 20, 8],\n",
        "    [9, 4, 15, 28, 17],\n",
        "    [1, 6, 21, 18, 3],\n",
        "    [10, 13, 25, 33, 30],\n",
        "    [14, 7, 16, 19, 22]\n",
        "]\n",
        "\n",
        "even_count = 0\n",
        "odd_count = 0\n",
        "\n",
        "# Your code here:\n",
        "\n",
        "for number in numbers:\n",
        "  for i in number:\n",
        "    if i%2==0:\n",
        "      even_count +=1\n",
        "    else:\n",
        "      odd_count +=1\n",
        "\n",
        "print('Even number count is',even_count)\n",
        "print('Odd number count is', odd_count)"
      ]
    },
    {
      "cell_type": "markdown",
      "metadata": {
        "id": "zqZRSProCrKH"
      },
      "source": [
        "## Imagine you're organizing a chess tournament 🏆, where each player has to play against every other player. To achieve this, you can use nested loops in Python! Nested loops are simply loops within loops, and they come in handy when you need to perform tasks involving multiple levels of iteration.\n",
        "\n",
        "In Python, you can nest 'for' loops, 'while' loops, or even a combination of both. Let's take a closer look at how nested loops work using our chess tournament scenario:"
      ]
    },
    {
      "cell_type": "code",
      "execution_count": null,
      "metadata": {
        "id": "2X6rmjkWGbUu",
        "colab": {
          "base_uri": "https://localhost:8080/"
        },
        "outputId": "75c423e8-8656-4cfd-c51a-88020f8693ef"
      },
      "outputs": [
        {
          "output_type": "stream",
          "name": "stdout",
          "text": [
            "Alice vs Bob\n",
            "Alice vs Charlie\n",
            "Alice vs Diana\n",
            "Bob vs Alice\n",
            "Bob vs Charlie\n",
            "Bob vs Diana\n",
            "Charlie vs Alice\n",
            "Charlie vs Bob\n",
            "Charlie vs Diana\n",
            "Diana vs Alice\n",
            "Diana vs Bob\n",
            "Diana vs Charlie\n"
          ]
        }
      ],
      "source": [
        "# Write Your Code Here\n",
        "players = ['Alice', 'Bob', 'Charlie', 'Diana']\n",
        "\n",
        "for player1 in players:\n",
        "  for player2 in players:\n",
        "    if player1 != player2:\n",
        "      print(f'{player1} vs {player2}')"
      ]
    },
    {
      "cell_type": "markdown",
      "metadata": {
        "id": "fQDnnflBDz6C"
      },
      "source": [
        "**Instructions**\n",
        "\n",
        "1. Inititiate the list.\n",
        "2. Iterate through the list in first loop.\n",
        "3. Iterate throught the same list in inner loop.\n",
        "4. Compare the element in the outer and inner loops. If they are not the same players, print \"Player x plays against Player y\".\n"
      ]
    },
    {
      "cell_type": "markdown",
      "metadata": {
        "id": "Q5d2ryJwIrH9"
      },
      "source": [
        "# **Conditional & Infinite Looping**"
      ]
    },
    {
      "cell_type": "markdown",
      "metadata": {
        "id": "bORtEvsst-Hi"
      },
      "source": [
        "## **Building a Simple Calculator**\n",
        "\n",
        "In this activity, you will build a simple calculator using conditional looping in Python. The calculator will ask the user for two numbers and an operation (addition, subtraction, multiplication, or division), and then perform the operation on the two numbers."
      ]
    },
    {
      "cell_type": "markdown",
      "metadata": {
        "id": "mdhVQGZwutpZ"
      },
      "source": [
        "**Instructions**:\n",
        "\n",
        "1. First, enter your first choice number.\n",
        "2. Second, enter your second choice number.\n",
        "3. Choose or enter the operation you want to perform.User Input will be \"(addition, subtraction, multiplication, or division)\".\n",
        "4. Use a conditional loop to perform the appropriate operation you want to perform.\n",
        "5. Finally, print the result of the operation."
      ]
    },
    {
      "cell_type": "code",
      "execution_count": null,
      "metadata": {
        "id": "Ushzbz-RuqxV",
        "colab": {
          "base_uri": "https://localhost:8080/"
        },
        "outputId": "49a6fe2e-9af2-43c5-8764-92ce600ed1f7"
      },
      "outputs": [
        {
          "output_type": "stream",
          "name": "stdout",
          "text": [
            "Enter number 1: 4\n",
            "Enter number 2: 5\n",
            "addition, subtraction, multiplication, or division: dfd\n",
            "please enter valid operator\n"
          ]
        }
      ],
      "source": [
        "# Write code here\n",
        "num1 = int(input('Enter number 1: '))\n",
        "num2 = int(input('Enter number 2: '))\n",
        "operation = input('addition, subtraction, multiplication, or division: ')\n",
        "\n",
        "if operation == 'addition':\n",
        "  print(num1 + num2)\n",
        "elif operation == 'subtraction':\n",
        "  print(num1 - num2)\n",
        "elif operation == 'multiplication':\n",
        "  print(num1 * num2)\n",
        "elif operation == 'division':\n",
        "  print(num1 / num2)\n",
        "else:\n",
        "  print('please enter valid operator')"
      ]
    },
    {
      "cell_type": "markdown",
      "metadata": {
        "id": "BdL16-CWuLGr"
      },
      "source": [
        "## **Building a Guessing Game**\n",
        "\n",
        "In this activity, you will build a simple guessing game using conditional looping in Python. The game will generate a random number between 1 and 100, and the user will have to guess the number within a certain number of tries. The program will provide hints to the user after each guess, telling them whether their guess is too high or too low."
      ]
    },
    {
      "cell_type": "markdown",
      "metadata": {
        "id": "arBlBPJ2eJ7R"
      },
      "source": [
        "**What is the random module?**\n",
        "\n",
        "The random module is a built-in Python module that provides a suite of functions for generating random numbers and sequences. This module is often used in applications where randomization is important, such as games, simulations, and cryptography.\n",
        "\n",
        "You do not need to worry much about this as you will be learning about these modules and functions in the upcoming classes."
      ]
    },
    {
      "cell_type": "markdown",
      "metadata": {
        "id": "DI80fya5vZDs"
      },
      "source": [
        "**Instructions:**\n",
        "\n",
        "1. First, import the \"random\" module to generate a random number for the game.\n",
        "2. Next, enter the number of tries you want to have and set a counter to keep track of how many tries you are left with.\n",
        "3. Now, use a while loop to allow yourself to keep guessing until you either guess the correct number or run out of tries.\n",
        "4. Finally, if you run out of tries without guessing the correct number, print a message telling what the secret number was."
      ]
    },
    {
      "cell_type": "code",
      "execution_count": null,
      "metadata": {
        "id": "23RmOUN2vW9s",
        "colab": {
          "base_uri": "https://localhost:8080/"
        },
        "outputId": "f61c6f02-44d4-48be-c231-521b9457e997"
      },
      "outputs": [
        {
          "output_type": "stream",
          "name": "stdout",
          "text": [
            "Enter the guess number 1\n",
            "The number is too small\n",
            "Try again, yoh have left 4\n",
            "Enter the guess number 43\n",
            "The number is too large\n",
            "Try again, yoh have left 3\n",
            "Enter the guess number 5\n",
            "The number is too small\n",
            "Try again, yoh have left 2\n",
            "Enter the guess number 4\n",
            "The number is too small\n",
            "Try again, yoh have left 1\n",
            "Enter the guess number 2\n",
            "The number is too small\n",
            "Try again, yoh have left 0\n",
            "Sorry you have run out of tries\n"
          ]
        }
      ],
      "source": [
        "import random\n",
        "\n",
        "# Generate a random number between 1 and 100\n",
        "secret_number = random.randint(1, 100)\n",
        "tries = 5\n",
        "i = 0\n",
        "# Write code here\n",
        "\n",
        "while i<tries:\n",
        "  guess = int(input('Enter the guess number '))\n",
        "  if guess == secret_number:\n",
        "    print(f'Correct guess ! the number is {guess}')\n",
        "  elif guess > secret_number:\n",
        "    print('The number is too large')\n",
        "  elif guess < secret_number:\n",
        "    print('The number is too small')\n",
        "\n",
        "  print(f'Try again, yoh have left {tries - 1}')\n",
        "  tries -= 1\n",
        "\n",
        "  if tries<=0:\n",
        "    print('Sorry you have run out of tries')\n"
      ]
    },
    {
      "cell_type": "markdown",
      "metadata": {
        "id": "CxWXvkMLuVys"
      },
      "source": [
        "## **Building a Fibonacci Sequence Generator**\n",
        "\n",
        "In this activity, you will build a program that generates a Fibonacci sequence using conditional looping in Python. The Fibonacci sequence is a series of numbers in which each number is the sum of the two preceding numbers. The sequence starts with 0 and 1, and the next number in the sequence is the sum of the previous two numbers."
      ]
    },
    {
      "cell_type": "code",
      "execution_count": null,
      "metadata": {
        "id": "sZhucS5rwLk0",
        "colab": {
          "base_uri": "https://localhost:8080/"
        },
        "outputId": "37461924-f6c4-4e7a-f3bd-f36a1456aadd"
      },
      "outputs": [
        {
          "output_type": "stream",
          "name": "stdout",
          "text": [
            "Total numbers u want in this series: 6\n",
            "enter first number : 1\n",
            "enter second number : 2\n",
            "1 2 3 5 8 13 "
          ]
        }
      ],
      "source": [
        "#enter how many terms you want in the sequence.\n",
        "nums = int(input('Total numbers u want in this series: '))\n",
        "\n",
        "#initialize the first two terms of the sequence\n",
        "a=int(input('enter first number : '))\n",
        "b=int(input('enter second number : '))\n",
        "print(a ,end =' ')\n",
        "print(b , end = \" \")\n",
        "i = 0\n",
        "\n",
        "#Use a while loop to generate the remaining terms of the sequence.\n",
        "while i < (nums-2):\n",
        "  c = a + b\n",
        "  print(c , end = ' ')\n",
        "  a = b\n",
        "  b = c\n",
        "  i +=1"
      ]
    },
    {
      "cell_type": "markdown",
      "metadata": {
        "id": "6BJVP9bzwLNE"
      },
      "source": [
        "**Instructions:**\n",
        "\n",
        "1. First, enter how many terms you want in the sequence.\n",
        "2. Then, initialize the first two terms of the sequence.\n",
        "3. Use a while loop to generate the remaining terms of the sequence.\n",
        "4. Finally, print the sequence."
      ]
    },
    {
      "cell_type": "markdown",
      "metadata": {
        "id": "bxxR7TtBugpK"
      },
      "source": [
        "## **Counting the Digit**\n",
        "\n",
        "You have been given a task to write a Python program that counts the number of times a specific digit appears in a range of numbers. You need to use a for loop to iterate over the range of numbers, and a while loop to check each digit in the number."
      ]
    },
    {
      "cell_type": "markdown",
      "metadata": {
        "id": "-oo68QaIdoL6"
      },
      "source": [
        "Example:\n",
        "\n",
        "* Enter start number: 100\n",
        "* Enter end number: 150\n",
        "* Enter digit to count: 5\n",
        "* The digit 5 appears 6 times between 100 and 150.\n"
      ]
    },
    {
      "cell_type": "code",
      "execution_count": null,
      "metadata": {
        "id": "uhS0_Btxc59A",
        "colab": {
          "base_uri": "https://localhost:8080/"
        },
        "outputId": "7fc066ca-fa71-45ed-972f-ca06c6837d61"
      },
      "outputs": [
        {
          "output_type": "stream",
          "name": "stdout",
          "text": [
            "Enter start number: 100\n",
            "Enter end number: 200\n",
            "Enter digit to count: 5\n",
            "The digit 5 appears 20 times between 100 and 200\n"
          ]
        }
      ],
      "source": [
        "# Write code here\n",
        "#input two numbers as the range (start and stop)\n",
        "start = int(input('Enter start number: '))\n",
        "stop = int(input('Enter end number: '))\n",
        "digit = int(input('Enter digit to count: '))\n",
        "count = 0\n",
        "\n",
        "#iteration\n",
        "for i in range(start , stop + 1):\n",
        "  while i > 0 :\n",
        "    rem = i % 10\n",
        "    if rem == digit :\n",
        "      count += 1\n",
        "    i = i // 10\n",
        "\n",
        "#printing result\n",
        "print(f'The digit {digit} appears {count} times between {start} and {stop}')"
      ]
    },
    {
      "cell_type": "markdown",
      "metadata": {
        "id": "o9NtECV_c8vr"
      },
      "source": [
        "**Instructions:**\n",
        "\n",
        "1. First, input two numbers as the range (start and end) between which the program should count the occurrence of a digit.\n",
        "2. Then, input the digit that needs to be counted.\n",
        "3. Initialize a counter variable to keep track of the number of occurrences of the digit.\n",
        "4. Use a for loop to iterate over the range of numbers between the start and end values (inclusive).\n",
        "5. Within the for loop, use a while loop to check each digit in the current number. If the digit matches the digit to be counted, increment the counter variable.\n",
        "6. After the for loop completes, print the total count of the digit that was entered by the user."
      ]
    },
    {
      "cell_type": "markdown",
      "metadata": {
        "id": "gjRKFGWFIrPu"
      },
      "source": [
        "# **Custom Functions in Python**"
      ]
    },
    {
      "cell_type": "markdown",
      "metadata": {
        "id": "5oJRi3Mv1MuD"
      },
      "source": [
        "## **Building a Calculator**\n",
        "\n",
        "\n",
        "In this activity, we will create a custom function in Python to build a calculator that can perform basic arithmetic operations such as addition, subtraction, multiplication, and division."
      ]
    },
    {
      "cell_type": "markdown",
      "metadata": {
        "id": "etkfY4lA8iRg"
      },
      "source": [
        "**💻 Code:**"
      ]
    },
    {
      "cell_type": "code",
      "execution_count": null,
      "metadata": {
        "id": "L5nnlASM1JfV"
      },
      "outputs": [],
      "source": [
        "def calculator(num1,num2,operation):\n",
        "  if operation == '+':\n",
        "    result = num1 + num2\n",
        "  elif operation == '-':\n",
        "    result = num1 - num2\n",
        "  elif operation == '*':\n",
        "    result = num1 * num2\n",
        "  elif operation == '/':\n",
        "    result = num1 / num2\n",
        "  else:\n",
        "    result = 'Invalid operation'\n",
        "\n",
        "  return result"
      ]
    },
    {
      "cell_type": "markdown",
      "metadata": {
        "id": "OXMHdeOH9EuG"
      },
      "source": [
        "**🧪 Test Code:**"
      ]
    },
    {
      "cell_type": "code",
      "execution_count": null,
      "metadata": {
        "id": "woikfzcB1j-S",
        "colab": {
          "base_uri": "https://localhost:8080/"
        },
        "outputId": "d4b7da8d-9ffa-43f7-bf95-aae294a3d563"
      },
      "outputs": [
        {
          "output_type": "execute_result",
          "data": {
            "text/plain": [
              "9"
            ]
          },
          "metadata": {},
          "execution_count": 13
        }
      ],
      "source": [
        "# Test the calculator function\n",
        "calculator(4,5,'+')"
      ]
    },
    {
      "cell_type": "markdown",
      "metadata": {
        "id": "K8ncM2pa1Ttz"
      },
      "source": [
        "**Instructions:**\n",
        "\n",
        "1. Define a function called calculator that takes three arguments: num1, num2, and operation.\n",
        "2. In the function, use an if-else statement to determine the arithmetic operation to perform based on the value of operation.\n",
        "3. If operation is '+', return the sum of num1 and num2.\n",
        "4. If operation is '-', return the difference between num1 and num2.\n",
        "5. If operation is '*', return the product of num1 and num2.\n",
        "6. If operation is '/', return the quotient of num1 and num2.\n",
        "7. If operation is not one of the four valid arithmetic operations, return the string \"Invalid operation\".\n",
        "7. Test your function by calling it with different values for num1, num2, and operation."
      ]
    },
    {
      "cell_type": "markdown",
      "metadata": {
        "id": "bFFQSaSN3ymq"
      },
      "source": [
        "## **Dice Rolling** 🎲\n",
        "\n",
        "Roll a dice and display the result. 🎲"
      ]
    },
    {
      "cell_type": "markdown",
      "metadata": {
        "id": "dld5FXtd7AnL"
      },
      "source": [
        "**What is the random module?**\n",
        "\n",
        "The random module is a built-in Python module that provides a suite of functions for generating random numbers and sequences. This module is often used in applications where randomization is important, such as games, simulations, and cryptography.\n",
        "\n",
        "You do not need to worry much about this as you will be learning about these modules and functions in the upcoming classes."
      ]
    },
    {
      "cell_type": "code",
      "source": [
        "# Define a function for roll a dice\n",
        "import random\n",
        "\n",
        "def roll_dice():\n",
        "\n",
        "  num = random.randint(1,6)\n",
        "  return num"
      ],
      "metadata": {
        "id": "FqOHbsJ6Fd5I"
      },
      "execution_count": null,
      "outputs": []
    },
    {
      "cell_type": "code",
      "source": [
        "# Roll the dice and print the result\n",
        "num = roll_dice()\n",
        "print(\"The rolled number is \", num)"
      ],
      "metadata": {
        "colab": {
          "base_uri": "https://localhost:8080/"
        },
        "id": "lmilqbxaGAiV",
        "outputId": "922fd10d-dfba-47ac-d02a-23f497c0da50"
      },
      "execution_count": null,
      "outputs": [
        {
          "output_type": "stream",
          "name": "stdout",
          "text": [
            "The rolled number is  3\n"
          ]
        }
      ]
    },
    {
      "cell_type": "markdown",
      "metadata": {
        "id": "opLb4qu54RU7"
      },
      "source": [
        "**Instructions:**\n",
        "\n",
        "1. The random module shoud be imported to generate a random number for the dice roll.\n",
        "2. roll_dice() is defined as a custom function that generates a random number between 1 and 6.\n",
        "3. The function returns the result of the dice roll.\n",
        "4. The result variable is assigned to the return value of the roll_dice() function.\n",
        "5. The result is printed using a formatted string."
      ]
    },
    {
      "cell_type": "markdown",
      "metadata": {
        "id": "XB3M38js4r8r"
      },
      "source": [
        "## **Celsius to Fahrenheit Converter**\n",
        "\n",
        "Create a custom function that takes in a temperature in Celsius and returns the temperature in Fahrenheit.\n",
        "\n",
        "**For example**: If the input temperature is 20 degrees Celsius, the output temperature should be 68 degrees Fahrenheit.\n"
      ]
    },
    {
      "cell_type": "markdown",
      "metadata": {
        "id": "LVMw5sDQ8elX"
      },
      "source": [
        "💻 Code:"
      ]
    },
    {
      "cell_type": "code",
      "execution_count": null,
      "metadata": {
        "id": "AG3AA-1n4p5r"
      },
      "outputs": [],
      "source": [
        "# Define a function to convert celsius to fahrenheit\n",
        "def converter(temp):\n",
        "  result =  (temp * 9/5) + 32\n",
        "  return result\n"
      ]
    },
    {
      "cell_type": "markdown",
      "metadata": {
        "id": "KDtKd97y9CSH"
      },
      "source": [
        "**🧪 Test Code:**"
      ]
    },
    {
      "cell_type": "code",
      "execution_count": null,
      "metadata": {
        "id": "T_sVClYZ5LT6",
        "colab": {
          "base_uri": "https://localhost:8080/"
        },
        "outputId": "db4ab30b-e178-4e3e-b337-11cb3781bedf"
      },
      "outputs": [
        {
          "output_type": "stream",
          "name": "stdout",
          "text": [
            "68.0\n"
          ]
        }
      ],
      "source": [
        "# Example usage\n",
        "temp = 20\n",
        "print(converter(temp))"
      ]
    },
    {
      "cell_type": "markdown",
      "metadata": {
        "id": "grA9fcVA5EDC"
      },
      "source": [
        "Output:\n",
        "\n",
        "If the input temperature is 20 degrees Celsius, the output temperature should be 68 degrees Fahrenheit."
      ]
    },
    {
      "cell_type": "markdown",
      "metadata": {
        "id": "Iz8PDswd5Of5"
      },
      "source": [
        "**Instructions:**\n",
        "\n",
        "To create this function, you can use the formula to convert the temperature in Celsius to Fahrenheit. The formula for converting Celsius to Fahrenheit is F = (C * 9/5) + 32, where F is the temperature in Fahrenheit and C is the temperature in Celsius."
      ]
    },
    {
      "cell_type": "markdown",
      "metadata": {
        "id": "f38kTkX-6DR4"
      },
      "source": [
        "## **Sum odd Numbers** ➖\n",
        "\n",
        "In this activity, you will create a custom function in Python that takes a list of integers as an argument and returns the sum of all odd numbers in the list."
      ]
    },
    {
      "cell_type": "markdown",
      "metadata": {
        "id": "_M8e-8p36M1J"
      },
      "source": [
        "💻 Code:"
      ]
    },
    {
      "cell_type": "code",
      "execution_count": null,
      "metadata": {
        "id": "BfJMZFk75GP3"
      },
      "outputs": [],
      "source": [
        "# define sum_odd custom function\n",
        "def sum_odd(list):\n",
        "  odd = []\n",
        "  for i in list:\n",
        "    if i%2!=0:\n",
        "      odd.append(i)\n",
        "\n",
        "  return sum(odd)\n"
      ]
    },
    {
      "cell_type": "markdown",
      "metadata": {
        "id": "6UGSjTv75-Qw"
      },
      "source": [
        "**🧪 Test Code:**"
      ]
    },
    {
      "cell_type": "code",
      "execution_count": null,
      "metadata": {
        "id": "7yyxAwOY5_fS",
        "colab": {
          "base_uri": "https://localhost:8080/"
        },
        "outputId": "17a83493-81a5-4ea0-98b7-e9a748e841f4"
      },
      "outputs": [
        {
          "output_type": "execute_result",
          "data": {
            "text/plain": [
              "9"
            ]
          },
          "metadata": {},
          "execution_count": 35
        }
      ],
      "source": [
        "# test here\n",
        "list = [1, 2, 3, 4, 5, 6]\n",
        "sum_odd(list)"
      ]
    },
    {
      "cell_type": "markdown",
      "metadata": {
        "id": "Pc5U7agP6_uJ"
      },
      "source": [
        "🤖 Output should be in format:\n",
        "\n",
        "If the input is [1, 2, 3, 4, 5, 6], then the output should be 9"
      ]
    },
    {
      "cell_type": "markdown",
      "metadata": {
        "id": "NJFkJnem6Yyq"
      },
      "source": [
        "**Instructions:**\n",
        "\n",
        "To create the sum_odd function, follow these steps:\n",
        "\n",
        "1. Define a function named sum_odd that takes one argument, lst.\n",
        "2. Inside the function, create a variable named result and set its value to 0.\n",
        "3. Use a for loop to iterate through each element in lst.\n",
        "4. For each element, check if it is odd by using the modulus operator (%). If the result not is 0, add the element to result.\n",
        "5. After the loop, return result."
      ]
    },
    {
      "cell_type": "markdown",
      "metadata": {
        "id": "W80MJEP4IrWl"
      },
      "source": [
        "# **Advanced Looping Concepts**"
      ]
    },
    {
      "cell_type": "markdown",
      "metadata": {
        "id": "q02nU6G56Gxh"
      },
      "source": [
        "## **Lambda Functions**\n",
        "\n",
        "🧑‍💻 You are working as a Python developer for a startup company that has just received a project from a client. The client wants a program that can perform certain operations on lists using lambda functions. Your manager has assigned you the task of finding the sum of squared odd numbers from the list.\n",
        "\n",
        "👉 Hint: You have to use filter, map and reduce functions to get the task done."
      ]
    },
    {
      "cell_type": "code",
      "execution_count": null,
      "metadata": {
        "id": "zbzwgW7357yh",
        "colab": {
          "base_uri": "https://localhost:8080/"
        },
        "outputId": "54d71cc5-9e84-4802-fefd-fafcbeac28b9"
      },
      "outputs": [
        {
          "output_type": "stream",
          "name": "stdout",
          "text": [
            "165\n"
          ]
        }
      ],
      "source": [
        "# Import reduce from functools module\n",
        "from functools import reduce\n",
        "\n",
        "# Create a list of numbers from 1 to 10\n",
        "numbers = list(range(1, 11))\n",
        "\n",
        "# Write your code here\n",
        "odd = list(filter(lambda x:x%2!=0,numbers))\n",
        "square = list(map(lambda x:x**2,odd))\n",
        "sum =  reduce(lambda x , y: x+y , square)\n",
        "print(sum)"
      ]
    },
    {
      "cell_type": "markdown",
      "metadata": {
        "id": "Lp9tch5h6Vw6"
      },
      "source": [
        "**Instructions:**\n",
        "\n",
        "1. Begin by creating a list of numbers from 1 to 10.\n",
        "2. Use a lambda function to filter out all even numbers from the list.\n",
        "3. Use a lambda function to square all the remaining odd numbers in the filtered list.\n",
        "4. Use a lambda function to find the sum of all the squared odd numbers in the list.\n",
        "5. Print the final result.\n",
        "\n",
        "**The reduce(fun,seq) function is used to apply a particular function passed in its argument to all of the list elements mentioned in the sequence passed along.This function is defined in “functools” module.**\n",
        "No need to worry if you haven't used this function before. You can get some additional information about the function here: https://www.geeksforgeeks.org/reduce-in-python/"
      ]
    },
    {
      "cell_type": "markdown",
      "metadata": {
        "id": "26lox7n97hNf"
      },
      "source": [
        "## **Pizza Toppings**\n",
        "\n",
        "🍕🍔 You have two lists, one containing pizza toppings and the other containing burger toppings. You need to create a new list that contains all the toppings from both the pizza and burger toppings lists, but only if they have more than 5 characters in their name.\n",
        "\n",
        "Can you write the code to create a new list that contains all the toppings from both the pizza and burger toppings lists, but only if they have more than 5 characters in their name using list comprehension only?\n",
        "\n",
        "👉 Hint: You can use a conditional statement to check the length of each topping's name."
      ]
    },
    {
      "cell_type": "code",
      "execution_count": null,
      "metadata": {
        "id": "_L80Blvu6beB",
        "colab": {
          "base_uri": "https://localhost:8080/"
        },
        "outputId": "3978aa07-2bd4-4770-dbd2-4696bb31bf9f"
      },
      "outputs": [
        {
          "output_type": "stream",
          "name": "stdout",
          "text": [
            "['mushroom', 'tomato', 'pepperoni', 'garlic', 'lettuce', 'cheese', 'mayonnaise', 'pickle', 'avocado']\n"
          ]
        }
      ],
      "source": [
        "# Here are the example lists of toppings\n",
        "pizza_toppings = ['mushroom', 'olive', 'tomato', 'pepperoni', 'onion', 'garlic']\n",
        "burger_toppings = ['lettuce', 'cheese', 'mayonnaise', 'bacon', 'pickle', 'avocado']\n",
        "\n",
        "# Write your code here\n",
        "list1 = [topping for topping in (pizza_toppings + burger_toppings) if len(topping)>5]\n",
        "print(list1)"
      ]
    },
    {
      "cell_type": "markdown",
      "metadata": {
        "id": "YUua3mlb7u-2"
      },
      "source": [
        "**Instructions:**\n",
        "\n",
        "1. Create two lists of toppings, one for pizza and one for burgers.\n",
        "\n",
        "2. Use list comprehension to iterate over both the pizza and burger toppings lists, and combine them into a new list.\n",
        "\n",
        "3. Use a conditional statement to check the length of each topping's name, and only include it in the new list if it has more than 5 characters."
      ]
    },
    {
      "cell_type": "markdown",
      "metadata": {
        "id": "RzZvjLHR75SA"
      },
      "source": [
        "## **Sales Data**\n",
        "\n",
        "🌎🛍️ Suppose you work for a company that sells products in different countries. You have been given two lists: one containing the names of the countries where the company sells its products, and the other containing the sales data for each country. Your task is to create a dictionary where the keys are the country names, and the values are the corresponding sales data. However, the sales data should only include values that are greater than 1000. You are not allowed to use any loops, and must use list comprehension to solve the problem.\n",
        "\n",
        "Can you write the code to create the desired dictionary using list comprehension?\n",
        "\n",
        "👉 Hint: You can use zip function to create pairs of country and sales data from the two lists."
      ]
    },
    {
      "cell_type": "code",
      "execution_count": null,
      "metadata": {
        "id": "ih8qq03B70j-",
        "colab": {
          "base_uri": "https://localhost:8080/"
        },
        "outputId": "4930dd71-ed96-4395-bc86-dca86792c7bf"
      },
      "outputs": [
        {
          "output_type": "stream",
          "name": "stdout",
          "text": [
            "[{'USA': 2500}, {'Mexico': 1200}, {'France': 2000}, {'Germany': 4000}, {'India': 1500}]\n"
          ]
        }
      ],
      "source": [
        "# Here are the two lists\n",
        "countries = [\"USA\", \"Canada\", \"Mexico\", \"Brazil\", \"UK\", \"France\", \"Germany\", \"China\", \"India\"]\n",
        "sales = [2500, 300, 1200, 800, 500, 2000, 4000, 1000, 1500]\n",
        "\n",
        "# Write your code here\n",
        "dic = [{cn:s} for cn,s in zip(countries,sales) if s>1000]\n",
        "print(dic)"
      ]
    },
    {
      "cell_type": "markdown",
      "metadata": {
        "id": "xVqhKQNM8GXP"
      },
      "source": [
        "**Instructions:**\n",
        "\n",
        "1. Use zip function to create a list of pairs, where each pair contains a country name and its corresponding sales data.\n",
        "\n",
        "2. Use list comprehension to create a dictionary where the keys are the country names and the values are the sales data. However, only include sales data that are greater than 1000."
      ]
    },
    {
      "cell_type": "markdown",
      "metadata": {
        "id": "sBvyWOQv8KqP"
      },
      "source": [
        "## **Stock Filtering**\n",
        "\n",
        "📊📈 Suppose you are working for a company that deals with financial data. You have been given a list of dictionaries, where each dictionary contains the following information about a stock: name, ticker symbol, price, and percentage change in price. Your task is to create a new list of dictionaries, where each dictionary contains only the name and price of the stock, but only for those stocks where the price is greater than 100 and the percentage change is positive. You must use list comprehension to solve the problem.\n",
        "\n",
        "Can you write the code to create the desired list of dictionaries using list comprehension?\n",
        "\n",
        "👉 Hint: You can use conditional statements to check if the price is greater than 100 and the percentage change is positive in the list comprehension."
      ]
    },
    {
      "cell_type": "code",
      "execution_count": null,
      "metadata": {
        "colab": {
          "base_uri": "https://localhost:8080/"
        },
        "id": "pT6d0-9M8JJ8",
        "outputId": "a6daed80-0244-4b0b-8840-89cda954aa8e"
      },
      "outputs": [
        {
          "output_type": "execute_result",
          "data": {
            "text/plain": [
              "[{'name': 'Apple Inc.', 'price': 120.0},\n",
              " {'name': 'Amazon.com, Inc.', 'price': 250.0},\n",
              " {'name': 'Alphabet Inc.', 'price': 110.0}]"
            ]
          },
          "metadata": {},
          "execution_count": 32
        }
      ],
      "source": [
        "# Here is an example of the list of dictionaries\n",
        "stocks = [\n",
        "    {'name': 'Apple Inc.', 'ticker': 'AAPL', 'price': 120.0, 'change': 0.05},\n",
        "    {'name': 'Microsoft Corporation', 'ticker': 'MSFT', 'price': 95.0, 'change': -0.02},\n",
        "    {'name': 'Amazon.com, Inc.', 'ticker': 'AMZN', 'price': 250.0, 'change': 0.1},\n",
        "    {'name': 'Alphabet Inc.', 'ticker': 'GOOGL', 'price': 110.0, 'change': 0.02},\n",
        "    {'name': 'Facebook, Inc.', 'ticker': 'FB', 'price': 80.0, 'change': 0.03}\n",
        "]\n",
        "\n",
        "# Write your code here\n",
        "\n",
        "#Createa a list of dictionaries where there is only the name and price.\n",
        "new_stocks= [{'name':stock['name'], 'price':stock['price']} for stock in stocks if stock['price']>100 and stock['change'] > 0]\n",
        "new_stocks\n"
      ]
    },
    {
      "cell_type": "markdown",
      "metadata": {
        "id": "vaB7yY3q8ctY"
      },
      "source": [
        "**Instructions:**\n",
        "\n",
        "1. Use list comprehension to filter the stocks where the price is greater than 100 and the percentage change is positive.\n",
        "\n",
        "2. Use list comprehension to create a new list of dictionaries where each dictionary contains only the name and price of the stock."
      ]
    },
    {
      "cell_type": "markdown",
      "metadata": {
        "id": "Gm_824J28kwx"
      },
      "source": [
        "## **Duplicate Songs**\n",
        "\n",
        "🎵🎶 You have a list of songs that you like to listen to, but you notice that some of the songs have duplicate names. You want to create a new set that contains the unique names of all the songs and keep the songs whose name doesn't start with \"S\" and doesn't end with \"n\" in your list using set comprehension.\n",
        "\n",
        "Can you write the code to create a new set that contains the unique names of all the songs in your list using set comprehension only?\n",
        "\n",
        "👉 Hint: Set comprehension is similar to list comprehension, but with curly braces {} instead of square brackets []."
      ]
    },
    {
      "cell_type": "code",
      "execution_count": null,
      "metadata": {
        "id": "1RR_E-kM8hRt",
        "colab": {
          "base_uri": "https://localhost:8080/"
        },
        "outputId": "79576fc9-732e-4ca8-eaae-cddae4283f7c"
      },
      "outputs": [
        {
          "output_type": "stream",
          "name": "stdout",
          "text": [
            "{'Bohemian Rhapsody', 'Hotel California'}\n"
          ]
        }
      ],
      "source": [
        "# Here's an example list of songs\n",
        "songs = ['Bohemian Rhapsody', 'Stairway to Heaven', 'Bohemian Rhapsody', 'Hotel California', 'November Rain', 'Stairway to Heaven', 'Sweet Child O\\' Mine']\n",
        "\n",
        "# Write your code here\n",
        "set_of_songs = {song for song in songs if song[0] !=\"S\" and song[-1] != 'n'}\n",
        "print(set_of_songs)"
      ]
    },
    {
      "cell_type": "markdown",
      "metadata": {
        "id": "Jqpuv0Kh8t1x"
      },
      "source": [
        "**Instructions:**\n",
        "\n",
        "1. Create a list of songs that contains duplicate names.\n",
        "\n",
        "2. Use set comprehension to iterate over the list of songs and create a new set that contains only the unique names of the songs.\n",
        "\n",
        "3. Include a condition in the set comprehension to filter out songs whose name starts with \"S\" and ends with \"n\"."
      ]
    },
    {
      "cell_type": "markdown",
      "metadata": {
        "id": "HC2V6Rf0Ircs"
      },
      "source": [
        "# **OOPs in Python**"
      ]
    },
    {
      "cell_type": "markdown",
      "metadata": {
        "id": "wi0GGVc-l-iH"
      },
      "source": [
        "## **Building a Simple Calculator** 🧮🔢\n",
        "\n",
        "\n",
        "In this activity, you will build a simple calculator program in Python using Object-Oriented Programming (OOP) concepts."
      ]
    },
    {
      "cell_type": "code",
      "execution_count": null,
      "metadata": {
        "id": "zphxebyom5IQ"
      },
      "outputs": [],
      "source": [
        "# Define a simple calculator class\n",
        "class Calculator:\n",
        "  def __init__(self):\n",
        "    self.result = 0\n",
        "  def add(self,num1,num2):\n",
        "    self.result = num1 + num2\n",
        "    return self.result\n",
        "\n",
        "  def subtract(self,num1,num2):\n",
        "    self.result = num1 - num2\n",
        "    return self.result\n",
        "\n",
        "  def multiply(self,num1,num2):\n",
        "    self.result=num1 * num2\n",
        "    return self.result\n",
        "\n",
        "  def divide(self,num1,num2):\n",
        "    if num2 == 0:\n",
        "      raise valueError(\"Cannot divide by zero\")\n",
        "    self.result = num1 / num2\n",
        "    return self.result\n",
        "\n"
      ]
    },
    {
      "cell_type": "code",
      "execution_count": null,
      "metadata": {
        "id": "rKnQSAlpsdx0",
        "colab": {
          "base_uri": "https://localhost:8080/"
        },
        "outputId": "ab219caa-a7e0-486e-beba-86ccbfdda222"
      },
      "outputs": [
        {
          "output_type": "stream",
          "name": "stdout",
          "text": [
            "75\n",
            "45\n",
            "900\n",
            "4.0\n"
          ]
        }
      ],
      "source": [
        "# Test Case\n",
        "C1 = Calculator()\n",
        "\n",
        "\n",
        "print(C1.add(60,15))\n",
        "print(C1.subtract(60,15))\n",
        "print(C1.multiply(60,15))\n",
        "print(C1.divide(60,15))"
      ]
    },
    {
      "cell_type": "markdown",
      "metadata": {
        "id": "QvuzAZb-m8EG"
      },
      "source": [
        "👉 **Instructions:**\n",
        "\n",
        "1. Start by defining a class called Calculator.\n",
        "2. Define four methods within the class: add, subtract, multiply, and divide.\n",
        "3. Each method should take two arguments: num1 and num2.\n",
        "4. The add method should return the sum of num1 and num2.\n",
        "5. The subtract method should return the difference between num1 and num2.\n",
        "6. The multiply method should return the product of num1 and num2.\n",
        "7. The divide method should return the result of dividing num1 by num2. However, if num2 is zero, the method should raise a ValueError with the message \"Cannot divide by zero\"."
      ]
    },
    {
      "cell_type": "markdown",
      "metadata": {
        "id": "3IigXP8Ir4Yq"
      },
      "source": [
        "## 🏀**Basketball Game Score Tracker**📈\n",
        "\n",
        "Create a class that will keep track of the score of a basketball game. The class should have methods for updating the score and printing the current score."
      ]
    },
    {
      "cell_type": "code",
      "execution_count": null,
      "metadata": {
        "id": "op236YgFsjA7"
      },
      "outputs": [],
      "source": [
        "# Create BasketballGame class\n",
        "class BasketballGame:\n",
        "  def __init__(self):\n",
        "    self.classA_score = 0\n",
        "    self.classB_score = 0\n",
        "\n",
        "  def Update_ClassA(self,score):\n",
        "    self.classA_score += score\n",
        "    return self.classA_score\n",
        "\n",
        "  def Update_ClassB(self,score):\n",
        "    self.classB_score += score\n",
        "    return self.classB_score\n",
        "\n",
        "  def Current_Score(self):\n",
        "    return f\"Class A score:{self.classA_score}\\nClass B Score:{self.classB_score}\""
      ]
    },
    {
      "cell_type": "code",
      "execution_count": null,
      "metadata": {
        "id": "KSatdMIbsuI7",
        "colab": {
          "base_uri": "https://localhost:8080/"
        },
        "outputId": "f5b69ba8-df75-4eb7-d8da-f24b3ef5cc12"
      },
      "outputs": [
        {
          "output_type": "stream",
          "name": "stdout",
          "text": [
            "Class A scores:\n",
            "90\n",
            "175\n",
            "255\n",
            "Class B scores:\n",
            "95\n",
            "175\n",
            "265\n",
            "Final scores:\n",
            "Class A score:255\n",
            "Class B Score:265\n"
          ]
        }
      ],
      "source": [
        "# Example Usage:\n",
        "B1 = BasketballGame()\n",
        "print(\"Class A scores:\")\n",
        "print(B1.Update_ClassA(90))\n",
        "print(B1.Update_ClassA(85))\n",
        "print(B1.Update_ClassA(80))\n",
        "print(\"Class B scores:\")\n",
        "print(B1.Update_ClassB(95))\n",
        "print(B1.Update_ClassB(80))\n",
        "print(B1.Update_ClassB(90))\n",
        "print(\"Final scores:\")\n",
        "print(B1.Current_Score())"
      ]
    },
    {
      "cell_type": "markdown",
      "metadata": {
        "id": "klxR5WZOtXlL"
      },
      "source": [
        "👉 **Instructions:**\n",
        "\n",
        "1. Start by creating a class called \"BasketballGame\".\n",
        "2. In the class constructor, initialize the score for both teams to 0.\n",
        "3. Add methods to the class for updating the score for each team. These methods should take in a number of points and add that to the appropriate team's score.\n",
        "4. Add a method to the class for printing the current score. This method should print out the score for both teams.\n",
        "5. Test your code by creating an instance of the \"BasketballGame\" class, updating the score for each team, and printing the current score."
      ]
    },
    {
      "cell_type": "markdown",
      "metadata": {
        "id": "VwvhqW59s8-7"
      },
      "source": [
        "## 🎨 **Paint Brush Class** 🖌️\n",
        "\n",
        "Create a Python class for a paint brush that has the following properties:\n",
        "\n",
        "* Size (small, medium, or large)\n",
        "* Color (red, blue, green, or yellow)\n",
        "* Brand (Winsor & Newton, Liquitex, or Grumbacher)\n",
        "* Type (round or flat)\n"
      ]
    },
    {
      "cell_type": "code",
      "execution_count": null,
      "metadata": {
        "id": "YZ8JOqPotDM7"
      },
      "outputs": [],
      "source": [
        "# Define PaintBrush Class\n",
        "class PaintBrush:\n",
        "  def __init__(self,size, color, brand, brush_type):\n",
        "    self.size = size\n",
        "    self.color =  color\n",
        "    self.brand = brand\n",
        "    self.brush_type = brush_type\n",
        "\n",
        "  def Paint(self):\n",
        "    return f\"Size of the brush : {self.size}\\nColour of the brush : {self.color}\\nBrand of the brush:{self.brand}\\nBrush type is :{ self.brush_type} \""
      ]
    },
    {
      "cell_type": "markdown",
      "metadata": {
        "id": "XA4HMkLatMrq"
      },
      "source": [
        "Now, create an instance of the PaintBrush class with the following properties:\n",
        "\n",
        "* Size: medium\n",
        "* Color: red\n",
        "* Brand: Winsor & Newton\n",
        "* Type: round\n",
        "* Call the paint() method on the instance to simulate painting with the brush."
      ]
    },
    {
      "cell_type": "code",
      "execution_count": null,
      "metadata": {
        "id": "jMo7hRI4tQhU",
        "colab": {
          "base_uri": "https://localhost:8080/"
        },
        "outputId": "0a9ca19b-bbe8-4731-a2bc-a4f1c8655990"
      },
      "outputs": [
        {
          "output_type": "stream",
          "name": "stdout",
          "text": [
            "Size of the brush : medium\n",
            "Colour of the brush : red\n",
            "Brand of the brush:Winsor & Newton\n",
            "Brush type is :round \n"
          ]
        }
      ],
      "source": [
        "# Test Case\n",
        "#creating object\n",
        "P1 = PaintBrush(\"medium\",\"red\",\"Winsor & Newton\",\"round\")\n",
        "print(P1.Paint())"
      ]
    },
    {
      "cell_type": "markdown",
      "metadata": {
        "id": "UJSmIs1DtknS"
      },
      "source": [
        "👉 **Instructions:**\n",
        "\n",
        "1. Start by defining the class using the keyword class, followed by the name of the class (in this case, \"PaintBrush\").\n",
        "\n",
        "2. Within the class, define the __init__ method to initialize the properties of the paint brush. The method should take four parameters: size, color, brand, and brush_type. Use the self keyword to refer to the instance of the class.\n",
        "\n",
        "3. Inside the __init__ method, assign the values of the parameters to instance variables using the self keyword.\n",
        "\n",
        "4. Define a method named paint that prints out a message indicating the brush size, color, brand, and type.\n",
        "\n",
        "5. Create an instance of the PaintBrush class by calling the class with the required parameters.\n",
        "\n",
        "6. Call the paint() method on the instance to simulate painting with the brush."
      ]
    },
    {
      "cell_type": "markdown",
      "metadata": {
        "id": "ARKS5oEitsVt"
      },
      "source": [
        "## **Bank Account Management System** 💻🏦\n",
        "\n",
        "Create a Bank Account Management System using Object-Oriented Programming (OOPs) in Python. The system should allow users to create and manage bank accounts, deposit and withdraw funds, and view account details."
      ]
    },
    {
      "cell_type": "code",
      "execution_count": null,
      "metadata": {
        "id": "J3WL7qYjvIml"
      },
      "outputs": [],
      "source": [
        "# Define a BankAccount class\n",
        "class BankAccount :\n",
        "  def __init__(self,name, account_number, balance):\n",
        "    self.name = name\n",
        "    self.account_number = account_number\n",
        "    self.balance= balance\n",
        "\n",
        "  def deposit(self , money):\n",
        "    self.balance += money\n",
        "    return f\"Amount {money} has been added.Your new balance is {self.balance}\"\n",
        "\n",
        "  def withdraw(self,withdrawal) :\n",
        "    if self.balance >= withdrawal:\n",
        "      self.balance -= withdrawal\n",
        "      return f\"Amount {withdrawal} has been deducted. Your new balance is {self.balance}\"\n",
        "    else :\n",
        "      return f\"Account has insufficient balance of {self.balance}. We cant withdraw {withdraawal}\"\n",
        "\n",
        "  def account_details(self):\n",
        "    print(\"Account Details:\")\n",
        "    return f'name :{self.name}\\naccount_number:{self.account_number}\\nbalance:{self.balance}'"
      ]
    },
    {
      "cell_type": "code",
      "execution_count": null,
      "metadata": {
        "id": "mihs9I58w0AB",
        "colab": {
          "base_uri": "https://localhost:8080/"
        },
        "outputId": "5f6bd58f-464e-47ed-b868-90cf8d6d85f4"
      },
      "outputs": [
        {
          "output_type": "stream",
          "name": "stdout",
          "text": [
            "Account Details:\n",
            "name :Advait\n",
            "account_number:1234\n",
            "balance:6000\n",
            "-------------\n",
            "Amount 2000 has been deducted. Your new balance is 4000\n",
            "-------------\n",
            "Amount 2000 has been added.Your new balance is 6000\n"
          ]
        }
      ],
      "source": [
        "# Test Case\n",
        "B1 = BankAccount('Advait' , 1234 , 6000)\n",
        "print(B1.account_details())\n",
        "print(\"-------------\")\n",
        "print(B1.withdraw(2000))\n",
        "print(\"-------------\")\n",
        "print(B1.deposit(2000))"
      ]
    },
    {
      "cell_type": "markdown",
      "metadata": {
        "id": "O2GDG6TUvaBF"
      },
      "source": [
        "👉 **Instructions:**\n",
        "\n",
        "1. Define a BankAccount class with an init() method that takes the name, account_number, and balance as parameters and initializes the instance variables.\n",
        "\n",
        "2. Define the deposit() method that takes the amount to be deposited as a parameter and adds it to the balance. Also, print a message with the new balance.\n",
        "\n",
        "3. Define the withdraw() method that takes the amount to be withdrawn as a parameter and checks if the account has sufficient balance. If yes, deduct the amount from the balance and print a message with the new balance. If not, print a message with the current balance.\n",
        "\n",
        "4. Define the account_details() method that prints the name, account number, and balance of the account.\n",
        "\n",
        "5. Create a new instance of the BankAccount class with some initial balance.\n",
        "\n",
        "6. Test the deposit(), withdraw(), and account_details() methods of the BankAccount class by calling them on the instance created in step 5 with some test values."
      ]
    },
    {
      "cell_type": "markdown",
      "metadata": {
        "id": "Ym0esuHoIriH"
      },
      "source": [
        "# **Exception Handling**"
      ]
    },
    {
      "cell_type": "markdown",
      "metadata": {
        "id": "7X3Rz0V8HgfP"
      },
      "source": [
        "## **Sum of first n Natural Numbers**\n",
        "\n",
        "💻 Suppose you are working on a project that requires you to write a Python program that calculates the sum of the first n natural numbers. You wrote a program to solve the problem, but the code contains several errors that prevent it from executing properly. ❌\n",
        "\n",
        "Your task is to identify and rectify the errors in the code and write the correct program. 🛠️"
      ]
    },
    {
      "cell_type": "code",
      "execution_count": null,
      "metadata": {
        "id": "VWJZF0ssHJMS",
        "colab": {
          "base_uri": "https://localhost:8080/",
          "height": 269
        },
        "outputId": "20c144bf-cc7b-489c-d24d-b8e1fd8d03ce"
      },
      "outputs": [
        {
          "name": "stdout",
          "output_type": "stream",
          "text": [
            "Enter a number: 10\n"
          ]
        },
        {
          "output_type": "error",
          "ename": "TypeError",
          "evalue": "ignored",
          "traceback": [
            "\u001b[0;31m---------------------------------------------------------------------------\u001b[0m",
            "\u001b[0;31mTypeError\u001b[0m                                 Traceback (most recent call last)",
            "\u001b[0;32m<ipython-input-16-bd1eae01c8c2>\u001b[0m in \u001b[0;36m<cell line: 4>\u001b[0;34m()\u001b[0m\n\u001b[1;32m      2\u001b[0m \u001b[0mn\u001b[0m \u001b[0;34m=\u001b[0m \u001b[0minput\u001b[0m\u001b[0;34m(\u001b[0m\u001b[0;34m\"Enter a number: \"\u001b[0m\u001b[0;34m)\u001b[0m\u001b[0;34m\u001b[0m\u001b[0;34m\u001b[0m\u001b[0m\n\u001b[1;32m      3\u001b[0m \u001b[0msum\u001b[0m \u001b[0;34m=\u001b[0m \u001b[0;36m0\u001b[0m\u001b[0;34m\u001b[0m\u001b[0;34m\u001b[0m\u001b[0m\n\u001b[0;32m----> 4\u001b[0;31m \u001b[0;32mfor\u001b[0m \u001b[0mi\u001b[0m \u001b[0;32min\u001b[0m \u001b[0mrange\u001b[0m\u001b[0;34m(\u001b[0m\u001b[0;36m0\u001b[0m\u001b[0;34m,\u001b[0m \u001b[0mn\u001b[0m\u001b[0;34m+\u001b[0m\u001b[0;36m1\u001b[0m\u001b[0;34m)\u001b[0m\u001b[0;34m:\u001b[0m\u001b[0;34m\u001b[0m\u001b[0;34m\u001b[0m\u001b[0m\n\u001b[0m\u001b[1;32m      5\u001b[0m   \u001b[0msum\u001b[0m \u001b[0;34m=\u001b[0m \u001b[0msum\u001b[0m \u001b[0;34m+\u001b[0m \u001b[0mi\u001b[0m\u001b[0;34m\u001b[0m\u001b[0;34m\u001b[0m\u001b[0m\n\u001b[1;32m      6\u001b[0m \u001b[0mprint\u001b[0m\u001b[0;34m(\u001b[0m\u001b[0;34m\"The sum of the first\"\u001b[0m\u001b[0;34m,\u001b[0m \u001b[0mn\u001b[0m\u001b[0;34m,\u001b[0m \u001b[0;34m\"natural numbers is\"\u001b[0m\u001b[0;34m,\u001b[0m \u001b[0msum\u001b[0m\u001b[0;34m)\u001b[0m\u001b[0;34m\u001b[0m\u001b[0;34m\u001b[0m\u001b[0m\n",
            "\u001b[0;31mTypeError\u001b[0m: can only concatenate str (not \"int\") to str"
          ]
        }
      ],
      "source": [
        "# Code with errors\n",
        "n = input(\"Enter a number: \")\n",
        "sum = 0\n",
        "for i in range(0, n+1):\n",
        "  sum = sum + i\n",
        "print(\"The sum of the first\", n, \"natural numbers is\", sum"
      ]
    },
    {
      "cell_type": "code",
      "execution_count": null,
      "metadata": {
        "id": "Gx1ZJKgWLDCf",
        "colab": {
          "base_uri": "https://localhost:8080/"
        },
        "outputId": "a5226386-e7d5-4a35-9fc4-61b9923ad0ca"
      },
      "outputs": [
        {
          "output_type": "stream",
          "name": "stdout",
          "text": [
            "Enter a number: 20\n",
            "The sum of the first 20 natural numbers is 210\n"
          ]
        }
      ],
      "source": [
        "# Write your code here\n",
        "n = int(input(\"Enter a number: \"))\n",
        "sum = 0\n",
        "for i in range(0, n+1):\n",
        "  sum = sum + i\n",
        "print(\"The sum of the first\", n, \"natural numbers is\", sum)"
      ]
    },
    {
      "cell_type": "markdown",
      "metadata": {
        "id": "MQ1LuqbFIMGp"
      },
      "source": [
        "👉 **Instructions:**\n",
        "\n",
        "1. The input function returns a string, so we need to convert it to an integer using the int() function. 🔢\n",
        "2. In the range() function, we need to provide an integer value for the upper limit. So, we need to convert the input to an integer as well. 🔝\n",
        "3. We need to add 1 to the upper limit in the range() function to include the last number. ➕"
      ]
    },
    {
      "cell_type": "markdown",
      "metadata": {
        "id": "yLGJGYS6I3Wh"
      },
      "source": [
        "## **Average Temperature** 🌡️🌡️\n",
        "\n",
        "You have been given a task to develop a program that calculates the average temperature 🌡️ of a city 🏢 for a given week. You have written a program to solve the problem, but there seems to be some logical errors that are causing the program to output incorrect results. You are provided with two sets of weekly temperatures and need to find the average of each individual week.\n",
        "\n",
        "Your task is to identify and rectify the logical errors in the code and write the correct program."
      ]
    },
    {
      "cell_type": "code",
      "execution_count": null,
      "metadata": {
        "id": "g0bm4yDDI2yW",
        "colab": {
          "base_uri": "https://localhost:8080/"
        },
        "outputId": "23b992a3-5685-4f9a-8321-9f19dacae1c2"
      },
      "outputs": [
        {
          "output_type": "stream",
          "name": "stdout",
          "text": [
            "The average temperature of the week is 427 degrees Celsius.\n"
          ]
        }
      ],
      "source": [
        "# Temperature data for the week 1 and week 2\n",
        "temperatures_w1 = [32, 34, 31, 30, 29, 28, 33]\n",
        "temperatures_w2 = [31, 34, 35, 28, 29]\n",
        "\n",
        "# Calculate the sum of all temperatures\n",
        "for temperature in temperatures_w1:\n",
        "  sum = sum + temperature\n",
        "\n",
        "# Calculate the average temperature\n",
        "average = sum / 7\n",
        "\n",
        "# Output the result\n",
        "print(\"The average temperature of the week is\", sum, \"degrees Celsius.\")"
      ]
    },
    {
      "cell_type": "code",
      "execution_count": null,
      "metadata": {
        "id": "J5JuV9WqLFX_",
        "colab": {
          "base_uri": "https://localhost:8080/"
        },
        "outputId": "f49cb4df-c3ca-4fe8-bd8b-149e76913bee"
      },
      "outputs": [
        {
          "output_type": "stream",
          "name": "stdout",
          "text": [
            "The average temperature of week 1 is 31.0 degrees Celsius.\n",
            "The average temperature of week 2 is 31.4 degrees Celsius.\n"
          ]
        }
      ],
      "source": [
        "# Write your code here\n",
        "temperatures_w1 = [32, 34, 31, 30, 29, 28, 33]\n",
        "temperatures_w2 = [31, 34, 35, 28, 29]\n",
        "\n",
        "# Calculate the average temperature of week 1\n",
        "sum_w1 = 0\n",
        "for temperature in temperatures_w1:\n",
        "  sum_w1 += temperature\n",
        "average_w1 = sum_w1 / len(temperatures_w1)\n",
        "\n",
        "# Calculate the average temperature of week 2\n",
        "sum_w2 = 0\n",
        "for temperature in temperatures_w2:\n",
        "  sum_w2 += temperature\n",
        "average_w2 = sum_w2 / len(temperatures_w2)\n",
        "\n",
        "# Output the result\n",
        "print(\"The average temperature of week 1 is\", average_w1, \"degrees Celsius.\")\n",
        "print(\"The average temperature of week 2 is\", average_w2, \"degrees Celsius.\")\n"
      ]
    },
    {
      "cell_type": "markdown",
      "metadata": {
        "id": "A101OEJQJ_Tq"
      },
      "source": [
        "👉 **Instructions:**\n",
        "\n",
        "1. The given temperature list is in celsius and we need to find the average of each individual week.\n",
        "2. While iterating through each temperature we need to initialize a variable to start from zero otherwise it can start from any garbage value.\n",
        "3. Next, find the average by dividing the sum of the temperatures by the length of the temperatures list.\n",
        "4. Print the average temperature of the each week."
      ]
    },
    {
      "cell_type": "markdown",
      "metadata": {
        "id": "r04OSlnDLKj3"
      },
      "source": [
        "## **Handle that Error!** ❌❌\n",
        "\n",
        "You are developing a Python program that requires user input. You want to make sure that your program doesn't crash due to invalid user input or unexpected errors 🛑. You have heard about exception handling in Python and want to implement it in your program to handle errors gracefully.\n",
        "\n",
        "Your task is to implement exception handling in your program to handle invalid user input and unexpected errors."
      ]
    },
    {
      "cell_type": "code",
      "execution_count": null,
      "metadata": {
        "id": "1UPr7gn2KIm_",
        "colab": {
          "base_uri": "https://localhost:8080/"
        },
        "outputId": "59cd740a-5312-4038-c8c9-33e2b6a29325"
      },
      "outputs": [
        {
          "output_type": "stream",
          "name": "stdout",
          "text": [
            "Enter the first number: 2\n",
            "Enter the second number: 3\n",
            "The result is:  0.6666666666666666\n"
          ]
        }
      ],
      "source": [
        "# Code without exception handling\n",
        "num1 = int(input(\"Enter the first number: \"))\n",
        "num2 = int(input(\"Enter the second number: \"))\n",
        "\n",
        "result = num1 / num2\n",
        "\n",
        "print(\"The result is: \", result)"
      ]
    },
    {
      "cell_type": "code",
      "execution_count": null,
      "metadata": {
        "id": "9X3-V505Lqor",
        "colab": {
          "base_uri": "https://localhost:8080/"
        },
        "outputId": "c246202d-164d-4e81-dd34-edbfed155a2c"
      },
      "outputs": [
        {
          "output_type": "stream",
          "name": "stdout",
          "text": [
            "Enter the first number: 11\n",
            "Enter the second number: 20\n",
            "The result is:  0.55\n"
          ]
        }
      ],
      "source": [
        "# code with exception handling\n",
        "try:\n",
        "    num1 = int(input(\"Enter the first number: \"))\n",
        "    num2 = int(input(\"Enter the second number: \"))\n",
        "    result = num1 / num2\n",
        "    print(\"The result is: \", result)\n",
        "\n",
        "except ValueError:\n",
        "    print(\"Invalid input. Please enter a valid integer.\")\n",
        "\n",
        "except ZeroDivisionError:\n",
        "    print(\"Error: Division by zero is not allowed.\")\n",
        "\n",
        "except Exception as e:\n",
        "    print(\"An unexpected error has occurred:\", e)"
      ]
    },
    {
      "cell_type": "markdown",
      "metadata": {
        "id": "Eq2O0ac-Lsxp"
      },
      "source": [
        "👉 **Instructions:**\n",
        "\n",
        "1. Add a try-except block to handle any errors that may occur during runtime.\n",
        "2. In the try block, add the code that may raise an exception.\n",
        "3. In the except block, add the code to handle the exception."
      ]
    },
    {
      "cell_type": "markdown",
      "metadata": {
        "id": "a5yhjDXAMTv6"
      },
      "source": [
        "## **What's the time?** ⌚⌚\n",
        "\n",
        "Create a class Time which takes two inputs: hours and minutes to instantiate.\n",
        "\n",
        "* Construct a method DisplayTime() which displays the time in AM/PM formats.\n",
        "\n",
        " * For example if the input is 14 hours and 45 mins, then this method will print \"The time is 2:45 PM\".\n",
        " * If the inputted hours exceeds 23 then print the message \"The input hours should be less than 24\" and if the inputted minutes exceeds 59 then print the message \"The input minutes should be less than 60.\"\n",
        " * Also if the input is 12 hours 30 minutes, then the displayed time would be 12:30 PM\n",
        "\n",
        "* Construct a method DisplayRatio() which should display the ratio of minutes to hours.\n",
        " * For example, (8 hours and 16 mins) should display 2. Use try, except block to account for ZeroDivisionError."
      ]
    },
    {
      "cell_type": "code",
      "execution_count": null,
      "metadata": {
        "id": "_xHOnmYILyor"
      },
      "outputs": [],
      "source": [
        "# Write your code here\n",
        "class Time:\n",
        "    def __init__(self, hours, minutes):\n",
        "        self.hours = hours\n",
        "        self.minutes = minutes\n",
        "\n",
        "    def DisplayTime(self):\n",
        "        if self.hours > 23:\n",
        "            print(\"The input hours should be less than 24\")\n",
        "            return\n",
        "        if self.minutes > 59:\n",
        "            print(\"The input minutes should be less than 60\")\n",
        "            return\n",
        "        if self.hours >= 12:\n",
        "            time_str = \"{}:{:02d} PM\".format(self.hours % 12, self.minutes)\n",
        "        else:\n",
        "            time_str = \"{}:{:02d} AM\".format(self.hours, self.minutes)\n",
        "        print(\"The time is\", time_str)\n",
        "\n",
        "    def DisplayRatio(self):\n",
        "        try:\n",
        "            ratio = self.minutes / self.hours\n",
        "            print(\"The ratio of minutes to hours is:\", ratio)\n",
        "        except ZeroDivisionError:\n",
        "            print(\"Cannot divide by zero.\")"
      ]
    },
    {
      "cell_type": "markdown",
      "metadata": {
        "id": "MS5Cs0nmM-0z"
      },
      "source": [
        "**🧪 Test Code:**"
      ]
    },
    {
      "cell_type": "code",
      "execution_count": null,
      "metadata": {
        "id": "BuTerXSIMsfR",
        "colab": {
          "base_uri": "https://localhost:8080/"
        },
        "outputId": "f16a5f64-20cd-4944-ce17-628b9b7b0450"
      },
      "outputs": [
        {
          "output_type": "stream",
          "name": "stdout",
          "text": [
            "The time is 11:45 PM\n",
            "The ratio of minutes to hours is: 1.9565217391304348\n",
            "The input hours should be less than 24\n",
            "The ratio of minutes to hours is: 1.4705882352941178\n",
            "The time is 0:34 PM\n",
            "The ratio of minutes to hours is: 2.8333333333333335\n",
            "The input minutes should be less than 60\n",
            "The ratio of minutes to hours is: 4.785714285714286\n",
            "The time is 7:20 PM\n",
            "The ratio of minutes to hours is: 1.0526315789473684\n",
            "The time is 2:15 AM\n",
            "The ratio of minutes to hours is: 7.5\n",
            "The time is 0:10 AM\n",
            "Cannot divide by zero.\n"
          ]
        }
      ],
      "source": [
        "# Check for few sample inputs of hours and mins\n",
        "hour_min_list = [(23,45), (34,50), (12,34), (14,67),(19,20), (2,15), (0, 10)]\n",
        "for hours, minutes in hour_min_list:\n",
        "    time = Time(hours, minutes)\n",
        "    time.DisplayTime()\n",
        "    time.DisplayRatio()\n"
      ]
    },
    {
      "cell_type": "markdown",
      "metadata": {
        "id": "3xJSAlfHNA8z"
      },
      "source": [
        "👉 **Instructions:**\n",
        "\n",
        "1. Create a class Time which takes two inputs: hours and minutes.\n",
        "2. Instantiate the values using a function.\n",
        "3. Then, define two functions for displaying the time in the format explained in the question and for displaying the ratio of hours to minutes.\n",
        "4. Use try-except block for displaying the ratio to account for Zero Division Error."
      ]
    }
  ],
  "metadata": {
    "colab": {
      "provenance": [],
      "include_colab_link": true
    },
    "kernelspec": {
      "display_name": "Python 3",
      "name": "python3"
    },
    "language_info": {
      "name": "python"
    }
  },
  "nbformat": 4,
  "nbformat_minor": 0
}